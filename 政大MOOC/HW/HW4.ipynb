{
 "cells": [
  {
   "cell_type": "code",
   "execution_count": 1,
   "metadata": {
    "collapsed": true
   },
   "outputs": [],
   "source": [
    "%matplotlib inline\n",
    "import numpy as np\n",
    "import matplotlib.pyplot as plt"
   ]
  },
  {
   "cell_type": "code",
   "execution_count": 29,
   "metadata": {
    "collapsed": true
   },
   "outputs": [],
   "source": [
    "from ipywidgets import interact_manual\n",
    "from ipywidgets import interact"
   ]
  },
  {
   "cell_type": "markdown",
   "metadata": {},
   "source": [
    "## 第一題：抽點系統\n",
    "\n",
    "老師想做一個抽點系統, 也就是按一個鍵就抽一位同學出來。某班同學有大雄、胖虎、小夫、宜靜、小杉。\n",
    "請幫老師寫個點名系統。"
   ]
  },
  {
   "cell_type": "code",
   "execution_count": 23,
   "metadata": {
    "collapsed": false
   },
   "outputs": [
    {
     "name": "stdout",
     "output_type": "stream",
     "text": [
      "小夫\n"
     ]
    }
   ],
   "source": [
    "name_list = [\"大雄\",\"胖虎\",\"小夫\",\"宜靜\",\"小杉\"]\n",
    "\n",
    "def sampling():\n",
    "    print(np.random.choice(name_list))\n",
    "    \n",
    "interact_manual(sampling)"
   ]
  },
  {
   "cell_type": "markdown",
   "metadata": {},
   "source": [
    "## 第二題：變長變短\n",
    "\n",
    "做一個數值滑桿, 數字變大某個 bar 就變長或變短。\n",
    "bar = \"■\""
   ]
  },
  {
   "cell_type": "code",
   "execution_count": 31,
   "metadata": {
    "collapsed": false
   },
   "outputs": [
    {
     "name": "stdout",
     "output_type": "stream",
     "text": [
      "■■■■■■■■■■■■■■■■■■■■■■■■■■■■■■■■■■■■\n"
     ]
    }
   ],
   "source": [
    "bar = \"■\"\n",
    "\n",
    "def printbar(num):\n",
    "    print(\"■\"*num)\n",
    "interact(printbar, num =(0,100))    \n",
    "    "
   ]
  },
  {
   "cell_type": "markdown",
   "metadata": {},
   "source": [
    "## 第三題：考試加權分數\n",
    "\n",
    "小明今年考大學\n",
    "\n",
    "依照 [國, 英, 數甲, 數乙, 物, 化, 生, 歷, 地, 公]\n",
    "他的分數分別是 [86.5, 79.4, 88.2, 96.5, 86.3, 76.8, 96.1, 78.5, 82.4, 88.6]\n",
    "\n",
    "而他所想申請的大學各系採計的科目權重分別是\n",
    "\n",
    "{\n",
    "\"土語系\": [2, 2, 0, 1, 0, 0, 0, 1, 1, 0],\n",
    "\"財政系\": [1, 1.5, 0, 1.5, 0, 0, 0, 0, 0, 0],\n",
    "\"金融系\": [1, 1.5, 0, 2, 0, 0, 0, 0, 0, 0],\n",
    "\"國貿系\": [1.5, 2, 0, 2, 0, 0, 0, 0, 0, 0],\n",
    "\"會計系\": [1.5, 2, 0, 2, 0, 0, 0, 1, 1, 0],\n",
    "\"法律系\": [1, 2, 0, 1, 0, 0, 0, 1, 0, 1],\n",
    "\"公行系\": [1, 1.5, 0, 1.25, 0, 0, 0, 0, 0, 1.25],\n",
    "\"應數系\": [1, 1, 1.5, 0, 1, 1, 0, 0, 0, 0],\n",
    "\"教育系\": [1.5, 2, 0, 1.25, 0, 0, 0, 1, 1, 0]\n",
    "} \n",
    "\n",
    "請幫他做出一個互動介面\n",
    "讓他在選擇科系後可以看到他的加權分數\n",
    "取到小數點後第一位"
   ]
  },
  {
   "cell_type": "code",
   "execution_count": 138,
   "metadata": {
    "collapsed": false
   },
   "outputs": [],
   "source": [
    "score = [86.5, 79.4, 88.2, 96.5, 86.3, 76.8, 96.1, 78.5, 82.4, 88.6]\n",
    "weights = {\n",
    "\"土語系\": [2, 2, 0, 1, 0, 0, 0, 1, 1, 0],\n",
    "\"財政系\": [1, 1.5, 0, 1.5, 0, 0, 0, 0, 0, 0],\n",
    "\"金融系\": [1, 1.5, 0, 2, 0, 0, 0, 0, 0, 0],\n",
    "\"國貿系\": [1.5, 2, 0, 2, 0, 0, 0, 0, 0, 0],\n",
    "\"會計系\": [1.5, 2, 0, 2, 0, 0, 0, 1, 1, 0],\n",
    "\"法律系\": [1, 2, 0, 1, 0, 0, 0, 1, 0, 1],\n",
    "\"公行系\": [1, 1.5, 0, 1.25, 0, 0, 0, 0, 0, 1.25],\n",
    "\"應數系\": [1, 1, 1.5, 0, 1, 1, 0, 0, 0, 0],\n",
    "\"教育系\": [1.5, 2, 0, 1.25, 0, 0, 0, 1, 1, 0]\n",
    "} \n",
    "\n",
    "def calscore(department):\n",
    "    values = list(weights[department])\n",
    "    Total = np.sum(np.array(score)*np.array(values))\n",
    "    print(\"{:.1f}\".format(Total))\n"
   ]
  },
  {
   "cell_type": "code",
   "execution_count": 139,
   "metadata": {
    "collapsed": false
   },
   "outputs": [
    {
     "name": "stdout",
     "output_type": "stream",
     "text": [
      "508.9\n"
     ]
    }
   ],
   "source": [
    "interact(calscore, department=list(weights.keys()))"
   ]
  },
  {
   "cell_type": "markdown",
   "metadata": {},
   "source": [
    "##  Challenge Challenge魔鬼挑戰題：\n",
    "\n",
    "（做完可以直接得到一百分）\n",
    "將上週挑戰題一所要求的函式在10行以內寫出來"
   ]
  },
  {
   "cell_type": "code",
   "execution_count": 148,
   "metadata": {
    "collapsed": false
   },
   "outputs": [],
   "source": [
    "np.set_printoptions(suppress=True) #remove science notation\n",
    "\n",
    "A = np.random.rand(270).reshape(3,30,3)*100.0\n",
    "weights_1 = [0.2, 0.35, 0.45]\n",
    "weights_2 = [0.0, 0.40, 0.60]"
   ]
  },
  {
   "cell_type": "code",
   "execution_count": 141,
   "metadata": {
    "collapsed": true
   },
   "outputs": [],
   "source": [
    "def Total_calc(SA, w1, w2): #main function\n",
    "    W1Sum = np.sum(SA*w1, axis = 2)\n",
    "    W2Sum = np.sum(SA*w2, axis = 2)\n",
    "    WTotal = np.empty(shape=[3, 30, 1])\n",
    "    for i in range(3):\n",
    "        for j in range(30):\n",
    "           WTotal[i,j] = np.where(W1Sum[i,j] > W1Sum[i,j], W1Sum[i,j], W2Sum[i,j])\n",
    "    return WTotal"
   ]
  },
  {
   "cell_type": "code",
   "execution_count": 142,
   "metadata": {
    "collapsed": false
   },
   "outputs": [
    {
     "data": {
      "text/plain": [
       "array([[[ 65.45701008],\n",
       "        [ 12.33207962],\n",
       "        [ 24.43746836],\n",
       "        [ 47.8777256 ],\n",
       "        [ 56.46745827],\n",
       "        [ 57.72321968],\n",
       "        [ 58.07297196],\n",
       "        [ 62.3270592 ],\n",
       "        [ 92.94130487],\n",
       "        [ 60.84697299],\n",
       "        [ 87.25035711],\n",
       "        [ 36.38124984],\n",
       "        [ 79.50593626],\n",
       "        [ 66.9349987 ],\n",
       "        [ 43.7478083 ],\n",
       "        [ 79.67663763],\n",
       "        [ 49.24917823],\n",
       "        [ 40.90610398],\n",
       "        [ 68.81996555],\n",
       "        [ 87.70356188],\n",
       "        [ 18.83264956],\n",
       "        [ 67.04888535],\n",
       "        [ 38.70578748],\n",
       "        [ 38.45669683],\n",
       "        [ 27.26804755],\n",
       "        [ 79.11454161],\n",
       "        [ 48.00761686],\n",
       "        [ 86.81757895],\n",
       "        [ 22.72659631],\n",
       "        [ 26.15049301]],\n",
       "\n",
       "       [[ 30.82609294],\n",
       "        [ 60.60316343],\n",
       "        [ 45.71700008],\n",
       "        [ 97.355934  ],\n",
       "        [ 45.25890862],\n",
       "        [ 12.07345266],\n",
       "        [ 20.3808944 ],\n",
       "        [ 56.99615424],\n",
       "        [ 58.25177299],\n",
       "        [  8.83836721],\n",
       "        [ 88.17610918],\n",
       "        [ 37.62587147],\n",
       "        [ 38.42573527],\n",
       "        [ 30.89430427],\n",
       "        [ 78.91882891],\n",
       "        [ 21.89677092],\n",
       "        [ 32.56199982],\n",
       "        [ 86.07759922],\n",
       "        [ 43.41587372],\n",
       "        [ 27.50119325],\n",
       "        [ 32.16720698],\n",
       "        [ 30.40038172],\n",
       "        [ 46.05700895],\n",
       "        [ 50.02630928],\n",
       "        [ 48.79790229],\n",
       "        [ 76.35984406],\n",
       "        [ 36.21246935],\n",
       "        [ 62.30497295],\n",
       "        [ 13.3917654 ],\n",
       "        [ 60.48772325]],\n",
       "\n",
       "       [[ 33.3957258 ],\n",
       "        [ 87.2978805 ],\n",
       "        [ 12.41717827],\n",
       "        [ 62.17848876],\n",
       "        [ 32.59642554],\n",
       "        [ 25.34158295],\n",
       "        [ 53.54402205],\n",
       "        [ 58.15781151],\n",
       "        [ 72.69710594],\n",
       "        [ 34.7988906 ],\n",
       "        [ 12.56954613],\n",
       "        [ 96.05237538],\n",
       "        [ 50.23806571],\n",
       "        [ 59.63728741],\n",
       "        [ 59.95894829],\n",
       "        [ 36.75693272],\n",
       "        [ 62.06395528],\n",
       "        [ 82.94772699],\n",
       "        [ 44.94783727],\n",
       "        [ 79.18796723],\n",
       "        [ 56.2347725 ],\n",
       "        [ 56.83121703],\n",
       "        [ 37.70955126],\n",
       "        [ 53.55506828],\n",
       "        [  9.44245353],\n",
       "        [ 62.72163749],\n",
       "        [ 51.638702  ],\n",
       "        [ 38.55695532],\n",
       "        [  4.92574458],\n",
       "        [ 61.38308836]]])"
      ]
     },
     "execution_count": 142,
     "metadata": {},
     "output_type": "execute_result"
    }
   ],
   "source": [
    "Total_calc(A,weights_1,weights_2)"
   ]
  }
 ],
 "metadata": {
  "kernelspec": {
   "display_name": "Python 3",
   "language": "python",
   "name": "python3"
  },
  "language_info": {
   "codemirror_mode": {
    "name": "ipython",
    "version": 3
   },
   "file_extension": ".py",
   "mimetype": "text/x-python",
   "name": "python",
   "nbconvert_exporter": "python",
   "pygments_lexer": "ipython3",
   "version": "3.6.0"
  },
  "widgets": {
   "state": {
    "126e55abb50840aa9ae72a7a029125fe": {
     "views": [
      {
       "cell_index": 5
      }
     ]
    },
    "d643fdd8e7b54412b089c55aa3b67153": {
     "views": [
      {
       "cell_index": 8
      }
     ]
    },
    "e7beb0471dd744e49eb671465c3f1213": {
     "views": [
      {
       "cell_index": 2
      }
     ]
    }
   },
   "version": "1.2.0"
  }
 },
 "nbformat": 4,
 "nbformat_minor": 2
}
