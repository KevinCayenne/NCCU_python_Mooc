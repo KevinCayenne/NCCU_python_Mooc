{
 "cells": [
  {
   "cell_type": "code",
   "execution_count": 2,
   "metadata": {
    "collapsed": true
   },
   "outputs": [],
   "source": [
    "%matplotlib inline\n",
    "import numpy as np\n",
    "import matplotlib.pyplot as plt"
   ]
  },
  {
   "cell_type": "code",
   "execution_count": 3,
   "metadata": {
    "collapsed": true
   },
   "outputs": [],
   "source": [
    "from ipywidgets import interact_manual\n",
    "from ipywidgets import interact"
   ]
  },
  {
   "cell_type": "markdown",
   "metadata": {},
   "source": [
    "## 第一題：抽點系統\n",
    "\n",
    "老師想做一個抽點系統, 也就是按一個鍵就抽一位同學出來。某班同學有大雄、胖虎、小夫、宜靜、小杉。\n",
    "請幫老師寫個點名系統。"
   ]
  },
  {
   "cell_type": "code",
   "execution_count": 4,
   "metadata": {},
   "outputs": [
    {
     "data": {
      "application/vnd.jupyter.widget-view+json": {
       "model_id": "9a45ab6d7b4d4faf9c384a4f3b586e38",
       "version_major": 2,
       "version_minor": 0
      },
      "text/plain": [
       "A Jupyter Widget"
      ]
     },
     "metadata": {},
     "output_type": "display_data"
    },
    {
     "data": {
      "text/plain": [
       "<function __main__.sampling>"
      ]
     },
     "execution_count": 4,
     "metadata": {},
     "output_type": "execute_result"
    }
   ],
   "source": [
    "name_list = [\"大雄\",\"胖虎\",\"小夫\",\"宜靜\",\"小杉\"]\n",
    "\n",
    "def sampling():\n",
    "    print(np.random.choice(name_list))\n",
    "    \n",
    "interact_manual(sampling)"
   ]
  },
  {
   "cell_type": "markdown",
   "metadata": {},
   "source": [
    "## 第二題：變長變短\n",
    "\n",
    "做一個數值滑桿, 數字變大某個 bar 就變長或變短。\n",
    "bar = \"■\""
   ]
  },
  {
   "cell_type": "code",
   "execution_count": 5,
   "metadata": {},
   "outputs": [
    {
     "data": {
      "application/vnd.jupyter.widget-view+json": {
       "model_id": "5b5266b46bb04beaabb4a9db04beb604",
       "version_major": 2,
       "version_minor": 0
      },
      "text/plain": [
       "A Jupyter Widget"
      ]
     },
     "metadata": {},
     "output_type": "display_data"
    },
    {
     "data": {
      "text/plain": [
       "<function __main__.printbar>"
      ]
     },
     "execution_count": 5,
     "metadata": {},
     "output_type": "execute_result"
    }
   ],
   "source": [
    "bar = \"■\"\n",
    "\n",
    "def printbar(num):\n",
    "    print(\"■\"*num)\n",
    "interact(printbar, num =(0,100))    \n",
    "    "
   ]
  },
  {
   "cell_type": "markdown",
   "metadata": {},
   "source": [
    "## 第三題：考試加權分數\n",
    "\n",
    "小明今年考大學\n",
    "\n",
    "依照 [國, 英, 數甲, 數乙, 物, 化, 生, 歷, 地, 公]\n",
    "他的分數分別是 [86.5, 79.4, 88.2, 96.5, 86.3, 76.8, 96.1, 78.5, 82.4, 88.6]\n",
    "\n",
    "而他所想申請的大學各系採計的科目權重分別是\n",
    "\n",
    "{\n",
    "\"土語系\": [2, 2, 0, 1, 0, 0, 0, 1, 1, 0],\n",
    "\"財政系\": [1, 1.5, 0, 1.5, 0, 0, 0, 0, 0, 0],\n",
    "\"金融系\": [1, 1.5, 0, 2, 0, 0, 0, 0, 0, 0],\n",
    "\"國貿系\": [1.5, 2, 0, 2, 0, 0, 0, 0, 0, 0],\n",
    "\"會計系\": [1.5, 2, 0, 2, 0, 0, 0, 1, 1, 0],\n",
    "\"法律系\": [1, 2, 0, 1, 0, 0, 0, 1, 0, 1],\n",
    "\"公行系\": [1, 1.5, 0, 1.25, 0, 0, 0, 0, 0, 1.25],\n",
    "\"應數系\": [1, 1, 1.5, 0, 1, 1, 0, 0, 0, 0],\n",
    "\"教育系\": [1.5, 2, 0, 1.25, 0, 0, 0, 1, 1, 0]\n",
    "} \n",
    "\n",
    "請幫他做出一個互動介面\n",
    "讓他在選擇科系後可以看到他的加權分數\n",
    "取到小數點後第一位"
   ]
  },
  {
   "cell_type": "code",
   "execution_count": 6,
   "metadata": {
    "collapsed": true
   },
   "outputs": [],
   "source": [
    "score = [86.5, 79.4, 88.2, 96.5, 86.3, 76.8, 96.1, 78.5, 82.4, 88.6]\n",
    "weights = {\n",
    "\"土語系\": [2, 2, 0, 1, 0, 0, 0, 1, 1, 0],\n",
    "\"財政系\": [1, 1.5, 0, 1.5, 0, 0, 0, 0, 0, 0],\n",
    "\"金融系\": [1, 1.5, 0, 2, 0, 0, 0, 0, 0, 0],\n",
    "\"國貿系\": [1.5, 2, 0, 2, 0, 0, 0, 0, 0, 0],\n",
    "\"會計系\": [1.5, 2, 0, 2, 0, 0, 0, 1, 1, 0],\n",
    "\"法律系\": [1, 2, 0, 1, 0, 0, 0, 1, 0, 1],\n",
    "\"公行系\": [1, 1.5, 0, 1.25, 0, 0, 0, 0, 0, 1.25],\n",
    "\"應數系\": [1, 1, 1.5, 0, 1, 1, 0, 0, 0, 0],\n",
    "\"教育系\": [1.5, 2, 0, 1.25, 0, 0, 0, 1, 1, 0]\n",
    "} \n",
    "\n",
    "def calscore(department):\n",
    "    values = list(weights[department])\n",
    "    Total = np.sum(np.array(score)*np.array(values))\n",
    "    print(\"{:.1f}\".format(Total))\n"
   ]
  },
  {
   "cell_type": "code",
   "execution_count": 7,
   "metadata": {},
   "outputs": [
    {
     "data": {
      "application/vnd.jupyter.widget-view+json": {
       "model_id": "d51b6faddcf746b896122a04a74410f9",
       "version_major": 2,
       "version_minor": 0
      },
      "text/plain": [
       "A Jupyter Widget"
      ]
     },
     "metadata": {},
     "output_type": "display_data"
    },
    {
     "data": {
      "text/plain": [
       "<function __main__.calscore>"
      ]
     },
     "execution_count": 7,
     "metadata": {},
     "output_type": "execute_result"
    }
   ],
   "source": [
    "interact(calscore, department=list(weights.keys()))"
   ]
  },
  {
   "cell_type": "markdown",
   "metadata": {},
   "source": [
    "##  Challenge Challenge魔鬼挑戰題：\n",
    "\n",
    "（做完可以直接得到一百分）\n",
    "將上週挑戰題一所要求的函式在10行以內寫出來"
   ]
  },
  {
   "cell_type": "code",
   "execution_count": 8,
   "metadata": {
    "collapsed": true
   },
   "outputs": [],
   "source": [
    "np.set_printoptions(suppress=True) #remove science notation\n",
    "\n",
    "A = np.random.rand(270).reshape(3,30,3)*100.0\n",
    "weights_1 = [0.2, 0.35, 0.45]\n",
    "weights_2 = [0.0, 0.40, 0.60]"
   ]
  },
  {
   "cell_type": "code",
   "execution_count": 9,
   "metadata": {
    "collapsed": true
   },
   "outputs": [],
   "source": [
    "def Total_calc(SA, w1, w2): #main function\n",
    "    W1Sum = np.sum(SA*w1, axis = 2)\n",
    "    W2Sum = np.sum(SA*w2, axis = 2)\n",
    "    WTotal = np.empty(shape=[3, 30, 1])\n",
    "    for i in range(3):\n",
    "        for j in range(30):\n",
    "           WTotal[i,j] = np.where(W1Sum[i,j] > W1Sum[i,j], W1Sum[i,j], W2Sum[i,j])\n",
    "    return WTotal"
   ]
  },
  {
   "cell_type": "code",
   "execution_count": 10,
   "metadata": {},
   "outputs": [
    {
     "data": {
      "text/plain": [
       "array([[[ 85.56348187],\n",
       "        [ 47.43312344],\n",
       "        [ 66.48669361],\n",
       "        [ 48.4878132 ],\n",
       "        [ 77.02493534],\n",
       "        [ 32.58658562],\n",
       "        [ 60.11523974],\n",
       "        [ 44.23190452],\n",
       "        [ 22.06955646],\n",
       "        [ 33.09857508],\n",
       "        [ 43.89395525],\n",
       "        [ 63.93124903],\n",
       "        [ 73.2495379 ],\n",
       "        [ 48.13135285],\n",
       "        [ 42.32925268],\n",
       "        [ 89.00810986],\n",
       "        [ 57.92749939],\n",
       "        [ 63.85649842],\n",
       "        [ 57.82321217],\n",
       "        [ 61.05902031],\n",
       "        [ 70.9120097 ],\n",
       "        [ 78.45878312],\n",
       "        [ 33.19266614],\n",
       "        [ 55.18687724],\n",
       "        [ 77.83964558],\n",
       "        [ 38.26944737],\n",
       "        [ 47.48637814],\n",
       "        [ 69.02558646],\n",
       "        [ 53.04489133],\n",
       "        [ 60.94778159]],\n",
       "\n",
       "       [[ 44.81892972],\n",
       "        [ 11.63228273],\n",
       "        [ 52.84797626],\n",
       "        [ 44.06466565],\n",
       "        [ 32.18796865],\n",
       "        [ 94.39869924],\n",
       "        [ 41.87597163],\n",
       "        [ 43.42816045],\n",
       "        [ 18.84597321],\n",
       "        [ 51.27275206],\n",
       "        [ 76.36603171],\n",
       "        [ 41.45401844],\n",
       "        [ 66.14313837],\n",
       "        [ 33.20007477],\n",
       "        [ 19.21906109],\n",
       "        [ 24.30840205],\n",
       "        [ 42.59415266],\n",
       "        [ 32.26974059],\n",
       "        [  8.94055299],\n",
       "        [ 40.12948488],\n",
       "        [ 40.67885234],\n",
       "        [ 40.5393588 ],\n",
       "        [ 55.15296338],\n",
       "        [ 60.57245354],\n",
       "        [ 60.70136812],\n",
       "        [ 51.62890286],\n",
       "        [ 65.07672286],\n",
       "        [ 89.38659709],\n",
       "        [ 39.33029689],\n",
       "        [ 67.06796048]],\n",
       "\n",
       "       [[ 34.13153394],\n",
       "        [ 61.70860334],\n",
       "        [ 25.51953685],\n",
       "        [ 38.89916581],\n",
       "        [ 48.47219308],\n",
       "        [ 15.89591896],\n",
       "        [ 74.01548974],\n",
       "        [ 29.09686883],\n",
       "        [ 57.56882564],\n",
       "        [ 58.98425696],\n",
       "        [ 41.61250602],\n",
       "        [ 60.62631937],\n",
       "        [ 50.25791179],\n",
       "        [ 28.62628645],\n",
       "        [ 71.11165382],\n",
       "        [ 80.48903158],\n",
       "        [ 56.88890909],\n",
       "        [ 62.51576698],\n",
       "        [ 62.52855332],\n",
       "        [ 28.85523883],\n",
       "        [ 43.70942758],\n",
       "        [ 83.01193414],\n",
       "        [ 44.2591902 ],\n",
       "        [ 12.36176722],\n",
       "        [ 31.7864623 ],\n",
       "        [ 38.68306713],\n",
       "        [ 25.50039607],\n",
       "        [ 52.27955495],\n",
       "        [ 68.29856999],\n",
       "        [ 55.66573999]]])"
      ]
     },
     "execution_count": 10,
     "metadata": {},
     "output_type": "execute_result"
    }
   ],
   "source": [
    "Total_calc(A,weights_1,weights_2)"
   ]
  }
 ],
 "metadata": {
  "kernelspec": {
   "display_name": "Python 3",
   "language": "python",
   "name": "python3"
  },
  "language_info": {
   "codemirror_mode": {
    "name": "ipython",
    "version": 3
   },
   "file_extension": ".py",
   "mimetype": "text/x-python",
   "name": "python",
   "nbconvert_exporter": "python",
   "pygments_lexer": "ipython3",
   "version": "3.6.3"
  },
  "widgets": {
   "state": {
    "126e55abb50840aa9ae72a7a029125fe": {
     "views": [
      {
       "cell_index": 5
      }
     ]
    },
    "d643fdd8e7b54412b089c55aa3b67153": {
     "views": [
      {
       "cell_index": 8
      }
     ]
    },
    "e7beb0471dd744e49eb671465c3f1213": {
     "views": [
      {
       "cell_index": 2
      }
     ]
    }
   },
   "version": "1.2.0"
  }
 },
 "nbformat": 4,
 "nbformat_minor": 2
}
