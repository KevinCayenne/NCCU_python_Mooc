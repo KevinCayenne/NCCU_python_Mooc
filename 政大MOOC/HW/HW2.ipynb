{
 "cells": [
  {
   "cell_type": "markdown",
   "metadata": {},
   "source": [
    "## 第一題【猜數字遊戲】：\n",
    "電腦由 1 到 100 「想」一個數字。你開始猜電腦想的數字, 太大或大小電腦會告訴你, 直到猜對。"
   ]
  },
  {
   "cell_type": "code",
   "execution_count": null,
   "metadata": {
    "collapsed": false
   },
   "outputs": [],
   "source": [
    "%pylab inline"
   ]
  },
  {
   "cell_type": "code",
   "execution_count": 19,
   "metadata": {
    "collapsed": false
   },
   "outputs": [
    {
     "name": "stdout",
     "output_type": "stream",
     "text": [
      ">> 50\n",
      "太小\n",
      ">> 60\n",
      "太小\n",
      ">> 70\n",
      "太小\n",
      ">> 80\n",
      "太大\n",
      ">> 77\n",
      "太大\n",
      ">> 73\n",
      "太大\n",
      ">> 71\n",
      "太小\n",
      ">> 72\n",
      "你猜對了!\n"
     ]
    }
   ],
   "source": [
    "guess = randint(1,101)\n",
    "yourAns = int(input(\">> \"))\n",
    "\n",
    "while yourAns != guess:\n",
    "    if yourAns < guess:\n",
    "        print(\"太小\")\n",
    "    elif yourAns > guess:\n",
    "        print(\"太大\")\n",
    "    yourAns = int(input(\">> \"))\n",
    "    \n",
    "print(\"你猜對了!\")"
   ]
  },
  {
   "cell_type": "markdown",
   "metadata": {},
   "source": [
    "## 第二題【感恩讚嘆機器人】：\n",
    "請依照老師本週影片的作法，\n",
    "製作出感恩讚嘆機器人，\n",
    "也就是回應的格式一律是：\n",
    "「感恩ＯＯ，讚嘆ＯＯ。」\n",
    "\n",
    "範例：\n",
    "\n",
    "「嗨，今天天氣很好，要一起去洞爺湖喝茶吃魚嗎？」\n",
    "\n",
    "『感恩炎龍，讚嘆炎龍。』"
   ]
  },
  {
   "cell_type": "code",
   "execution_count": 2,
   "metadata": {
    "collapsed": false
   },
   "outputs": [
    {
     "name": "stdout",
     "output_type": "stream",
     "text": [
      ">> 嗨\n",
      "感恩炎龍，讚嘆炎龍\n",
      ">> 哈摟\n",
      "感恩炎龍，讚嘆炎龍\n",
      ">> 嗚嗚\n",
      "感恩炎龍，讚嘆炎龍\n",
      ">> bye\n"
     ]
    }
   ],
   "source": [
    "def seafood(name):\n",
    "    print(\"感恩{}，讚嘆{}\".format(name, name))\n",
    "\n",
    "Ans = input(\">> \")\n",
    "\n",
    "while Ans != \"bye\":\n",
    "    name = \"炎龍\"\n",
    "    seafood(name)\n",
    "    Ans = input(\">> \")"
   ]
  },
  {
   "cell_type": "markdown",
   "metadata": {},
   "source": [
    "## 第三題 【寫個函數讓字串倒過來排】：\n",
    "寫一個函數, 比如說叫 reverse,\n",
    "\n",
    "然後輸入一個字串,\n",
    "\n",
    "st = “hello”\n",
    "\n",
    "reverse(“hello”)\n",
    "\n",
    "就回傳這個字串\n",
    "\n",
    "‘olleh’"
   ]
  },
  {
   "cell_type": "code",
   "execution_count": 3,
   "metadata": {
    "collapsed": false
   },
   "outputs": [
    {
     "data": {
      "text/plain": [
       "'olleh'"
      ]
     },
     "execution_count": 3,
     "metadata": {},
     "output_type": "execute_result"
    }
   ],
   "source": [
    "def reverse(Str):\n",
    "    NStr = \"\"\n",
    "    for i in range(1,len(Str)+1):\n",
    "        NStr = NStr + Str[-i]\n",
    "    return NStr\n",
    "\n",
    "reverse(\"hello\")"
   ]
  },
  {
   "cell_type": "markdown",
   "metadata": {},
   "source": [
    "## 挑戰題一【天干地支】：\n",
    "\n",
    "年份是用天干地支\n",
    "\n",
    "天干:甲乙丙丁戊己庚辛壬癸\n",
    "\n",
    "地支:子丑寅卯辰巳午未申酉戌亥\n",
    "\n",
    "2014年是甲午年\n",
    "\n",
    "2015年是乙未年\n",
    "\n",
    "…\n",
    "\n",
    "輸出2014~2073是什麼年"
   ]
  },
  {
   "cell_type": "code",
   "execution_count": 2,
   "metadata": {
    "collapsed": false
   },
   "outputs": [
    {
     "name": "stdout",
     "output_type": "stream",
     "text": [
      "2015年是乙未年\n",
      "2016年是丙申年\n",
      "2017年是丁酉年\n",
      "2018年是戊戌年\n",
      "2019年是己亥年\n",
      "2020年是庚子年\n",
      "2021年是辛丑年\n",
      "2022年是壬寅年\n",
      "2023年是癸卯年\n",
      "2024年是甲辰年\n",
      "2025年是乙巳年\n",
      "2026年是丙午年\n",
      "2027年是丁未年\n",
      "2028年是戊申年\n",
      "2029年是己酉年\n",
      "2030年是庚戌年\n",
      "2031年是辛亥年\n",
      "2032年是壬子年\n",
      "2033年是癸丑年\n",
      "2034年是甲寅年\n",
      "2035年是乙卯年\n",
      "2036年是丙辰年\n",
      "2037年是丁巳年\n",
      "2038年是戊午年\n",
      "2039年是己未年\n",
      "2040年是庚申年\n",
      "2041年是辛酉年\n",
      "2042年是壬戌年\n",
      "2043年是癸亥年\n",
      "2044年是甲子年\n",
      "2045年是乙丑年\n",
      "2046年是丙寅年\n",
      "2047年是丁卯年\n",
      "2048年是戊辰年\n",
      "2049年是己巳年\n",
      "2050年是庚午年\n",
      "2051年是辛未年\n",
      "2052年是壬申年\n",
      "2053年是癸酉年\n",
      "2054年是甲戌年\n",
      "2055年是乙亥年\n",
      "2056年是丙子年\n",
      "2057年是丁丑年\n",
      "2058年是戊寅年\n",
      "2059年是己卯年\n",
      "2060年是庚辰年\n",
      "2061年是辛巳年\n",
      "2062年是壬午年\n",
      "2063年是癸未年\n",
      "2064年是甲申年\n",
      "2065年是乙酉年\n",
      "2066年是丙戌年\n",
      "2067年是丁亥年\n",
      "2068年是戊子年\n",
      "2069年是己丑年\n",
      "2070年是庚寅年\n",
      "2071年是辛卯年\n",
      "2072年是壬辰年\n",
      "2073年是癸巳年\n"
     ]
    }
   ],
   "source": [
    "天干 = list(\"甲乙丙丁戊己庚辛壬癸\")\n",
    "地支 = list(\"子丑寅卯辰巳午未申酉戌亥\")\n",
    "base_year = 2014\n",
    "\n",
    "for i in range(1,60):\n",
    "    print(\"{}年是{}{}年\".format(base_year+i, 天干[(0+i)%10], 地支[(6+i)%12]))"
   ]
  },
  {
   "cell_type": "markdown",
   "metadata": {},
   "source": [
    "## 挑戰題二【我有一棵樹】：\n",
    "\n",
    "寫個 tree 函數, 給一個數字就會畫出如下的畫面"
   ]
  },
  {
   "cell_type": "code",
   "execution_count": 86,
   "metadata": {
    "collapsed": false
   },
   "outputs": [
    {
     "name": "stdout",
     "output_type": "stream",
     "text": [
      "         *\n",
      "        ***\n",
      "       *****\n",
      "      *******\n",
      "     *********\n",
      "    ***********\n",
      "   *************\n",
      "  ***************\n",
      " *****************\n",
      "*******************\n"
     ]
    }
   ],
   "source": [
    "def tree(num):\n",
    "    space = \" \"\n",
    "    star = \"*\"\n",
    "    for i in list(range(1,num+1)):\n",
    "        print(\"{}{}\".format(space*(num-i), star*(2*i-1)))\n",
    "        \n",
    "tree(10)"
   ]
  }
 ],
 "metadata": {
  "kernelspec": {
   "display_name": "Python 3",
   "language": "python",
   "name": "python3"
  },
  "language_info": {
   "codemirror_mode": {
    "name": "ipython",
    "version": 3
   },
   "file_extension": ".py",
   "mimetype": "text/x-python",
   "name": "python",
   "nbconvert_exporter": "python",
   "pygments_lexer": "ipython3",
   "version": "3.6.0"
  }
 },
 "nbformat": 4,
 "nbformat_minor": 2
}
