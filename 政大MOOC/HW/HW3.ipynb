{
 "cells": [
  {
   "cell_type": "code",
   "execution_count": null,
   "metadata": {
    "collapsed": true
   },
   "outputs": [],
   "source": [
    "%matplotlib inline\n",
    "import numpy as np\n",
    "import matplotlib as plt"
   ]
  },
  {
   "cell_type": "markdown",
   "metadata": {},
   "source": [
    "## 第一題：\n",
    "\n",
    "題目：給定一個矩陣m，裡面的值都大於0。\n",
    "請將矩陣m裡大於等於1的數字都變成1，小於1的變成0。\n",
    "m = np.array([[0,1,10],[2,6,7]])\n",
    "提示：使用巢狀迴圈(nested loop)加判斷式"
   ]
  },
  {
   "cell_type": "code",
   "execution_count": null,
   "metadata": {
    "collapsed": true
   },
   "outputs": [],
   "source": [
    "m = np.array([[0,1,10],[2,6,7]])"
   ]
  },
  {
   "cell_type": "code",
   "execution_count": 4,
   "metadata": {
    "collapsed": false
   },
   "outputs": [
    {
     "data": {
      "text/plain": [
       "array([[ 0,  1, 10],\n",
       "       [ 2,  6,  7]])"
      ]
     },
     "execution_count": 4,
     "metadata": {},
     "output_type": "execute_result"
    }
   ],
   "source": [
    "m"
   ]
  },
  {
   "cell_type": "code",
   "execution_count": 17,
   "metadata": {
    "collapsed": false
   },
   "outputs": [],
   "source": [
    "for i in range(m.shape[0]):\n",
    "    for j in range(m.shape[1]):\n",
    "        if m[i,j] >= 1:\n",
    "            m[i,j] = 1\n",
    "        elif m[i,j] < 1:\n",
    "            m[i,j] = 0"
   ]
  },
  {
   "cell_type": "code",
   "execution_count": 18,
   "metadata": {
    "collapsed": false
   },
   "outputs": [
    {
     "data": {
      "text/plain": [
       "array([[0, 1, 1],\n",
       "       [1, 1, 1]])"
      ]
     },
     "execution_count": 18,
     "metadata": {},
     "output_type": "execute_result"
    }
   ],
   "source": [
    "m"
   ]
  },
  {
   "cell_type": "markdown",
   "metadata": {},
   "source": [
    "## 第二題：\n",
    "有A,B,C三個班級，每班皆有10個學生，期中考結束後，老師希望計算各班級每位學生的加權平均成績。\n",
    "請隨機產生3個班級的成績單,每班10人,共五科,權重為weights=[0.25,0.25,0.25,0.15,0.10]。\n",
    "請算出班級加權平均成績，並以一個array輸出。"
   ]
  },
  {
   "cell_type": "code",
   "execution_count": 40,
   "metadata": {
    "collapsed": false
   },
   "outputs": [],
   "source": [
    "A = np.random.rand(50).reshape(10,5)*100\n",
    "B = np.random.rand(50).reshape(10,5)*100\n",
    "C = np.random.rand(50).reshape(10,5)*100\n",
    "weights=[0.25,0.25,0.25,0.15,0.10]"
   ]
  },
  {
   "cell_type": "code",
   "execution_count": 57,
   "metadata": {
    "collapsed": false
   },
   "outputs": [],
   "source": [
    "SA = np.sum([A*weights], axis=2)\n",
    "SB = np.sum([B*weights], axis=2)\n",
    "SC = np.sum([C*weights], axis=2)\n",
    "ALLscore = np.array([SA , SB , SC])"
   ]
  },
  {
   "cell_type": "code",
   "execution_count": 58,
   "metadata": {
    "collapsed": false
   },
   "outputs": [
    {
     "data": {
      "text/plain": [
       "array([[[ 16.4349858 ,  40.60184235,  31.3306609 ,  64.66267722,\n",
       "          45.00703852,  59.41127362,  27.07193189,  77.71572767,\n",
       "          62.34419558,  43.3117474 ]],\n",
       "\n",
       "       [[ 47.56751714,  49.69573419,  24.09845897,  49.68640057,\n",
       "          75.08142009,  44.27854822,  58.35749028,  69.40301817,\n",
       "          65.89946659,  36.12596499]],\n",
       "\n",
       "       [[ 55.09133433,  43.69851341,  40.9130182 ,  55.51998938,\n",
       "          66.64354144,  43.8273956 ,  18.1181296 ,  55.9252557 ,\n",
       "          45.45301457,  35.01408726]]])"
      ]
     },
     "execution_count": 58,
     "metadata": {},
     "output_type": "execute_result"
    }
   ],
   "source": [
    "ALLscore"
   ]
  },
  {
   "cell_type": "markdown",
   "metadata": {},
   "source": [
    "## 挑戰題一：\n",
    "\n",
    "請定義一個全班高微成績的函式，輸入是一個(3, 30, 3)的array，  \n",
    "表示3個班級中30位學生的成績(小考，期中考，期末考)  。\n",
    "\n",
    "目標輸出則是一個(3, 30, 1)的array，表示所有學生的期末成績，\n",
    "期末成績計算方式如下：\n",
    "\n",
    "1. 小考20%，期中考35%，期末考45%  \n",
    "2. 期中考40%，期末考60%。  \n",
    "擇優作為期末成績"
   ]
  },
  {
   "cell_type": "code",
   "execution_count": null,
   "metadata": {
    "collapsed": true
   },
   "outputs": [],
   "source": []
  }
 ],
 "metadata": {
  "kernelspec": {
   "display_name": "Python 3",
   "language": "python",
   "name": "python3"
  },
  "language_info": {
   "codemirror_mode": {
    "name": "ipython",
    "version": 3
   },
   "file_extension": ".py",
   "mimetype": "text/x-python",
   "name": "python",
   "nbconvert_exporter": "python",
   "pygments_lexer": "ipython3",
   "version": "3.6.0"
  }
 },
 "nbformat": 4,
 "nbformat_minor": 2
}
