{
 "cells": [
  {
   "cell_type": "code",
   "execution_count": 6,
   "metadata": {
    "collapsed": true
   },
   "outputs": [],
   "source": [
    "%matplotlib inline\n",
    "import numpy as np\n",
    "import matplotlib as plt"
   ]
  },
  {
   "cell_type": "markdown",
   "metadata": {},
   "source": [
    "## 第一題：\n",
    "\n",
    "題目：給定一個矩陣m，裡面的值都大於0。\n",
    "請將矩陣m裡大於等於1的數字都變成1，小於1的變成0。\n",
    "m = np.array([[0,1,10],[2,6,7]])\n",
    "提示：使用巢狀迴圈(nested loop)加判斷式"
   ]
  },
  {
   "cell_type": "code",
   "execution_count": 7,
   "metadata": {
    "collapsed": true
   },
   "outputs": [],
   "source": [
    "m = np.array([[0,1,10],[2,6,7]])"
   ]
  },
  {
   "cell_type": "code",
   "execution_count": 8,
   "metadata": {},
   "outputs": [
    {
     "data": {
      "text/plain": [
       "array([[ 0,  1, 10],\n",
       "       [ 2,  6,  7]])"
      ]
     },
     "execution_count": 8,
     "metadata": {},
     "output_type": "execute_result"
    }
   ],
   "source": [
    "m"
   ]
  },
  {
   "cell_type": "code",
   "execution_count": 9,
   "metadata": {},
   "outputs": [],
   "source": [
    "for i in range(m.shape[0]):\n",
    "    for j in range(m.shape[1]):\n",
    "        if m[i,j] >= 1:\n",
    "            m[i,j] = 1\n",
    "        elif m[i,j] < 1:\n",
    "            m[i,j] = 0"
   ]
  },
  {
   "cell_type": "code",
   "execution_count": 10,
   "metadata": {},
   "outputs": [
    {
     "data": {
      "text/plain": [
       "array([[0, 1, 1],\n",
       "       [1, 1, 1]])"
      ]
     },
     "execution_count": 10,
     "metadata": {},
     "output_type": "execute_result"
    }
   ],
   "source": [
    "m"
   ]
  },
  {
   "cell_type": "markdown",
   "metadata": {},
   "source": [
    "## 第二題：\n",
    "有A,B,C三個班級，每班皆有10個學生，期中考結束後，老師希望計算各班級每位學生的加權平均成績。\n",
    "請隨機產生3個班級的成績單,每班10人,共五科,權重為weights=[0.25,0.25,0.25,0.15,0.10]。\n",
    "請算出班級加權平均成績，並以一個array輸出。"
   ]
  },
  {
   "cell_type": "code",
   "execution_count": 11,
   "metadata": {},
   "outputs": [],
   "source": [
    "A = np.random.rand(50).reshape(10,5)*100\n",
    "B = np.random.rand(50).reshape(10,5)*100\n",
    "C = np.random.rand(50).reshape(10,5)*100\n",
    "weights=[0.25,0.25,0.25,0.15,0.10]"
   ]
  },
  {
   "cell_type": "code",
   "execution_count": 12,
   "metadata": {},
   "outputs": [],
   "source": [
    "SA = np.sum([A*weights], axis=2)\n",
    "SB = np.sum([B*weights], axis=2)\n",
    "SC = np.sum([C*weights], axis=2)\n",
    "ALLscore = np.array([SA , SB , SC])"
   ]
  },
  {
   "cell_type": "code",
   "execution_count": 13,
   "metadata": {},
   "outputs": [
    {
     "data": {
      "text/plain": [
       "array([[[ 48.71327294,  70.11557166,  35.07079427,  64.21681009,\n",
       "          58.62609942,  53.55033622,  59.27762492,  36.50568145,\n",
       "          74.73620492,  58.84828194]],\n",
       "\n",
       "       [[ 37.87657288,  35.02066577,  60.68608211,  76.61725104,\n",
       "          50.45634792,  45.01807147,  55.71467087,  63.91338895,\n",
       "          61.78904764,  53.29612072]],\n",
       "\n",
       "       [[ 40.73139209,  65.7138112 ,  64.29058128,  59.45168677,\n",
       "          31.24635416,  51.27422239,  37.77273285,  33.19730394,\n",
       "          39.50348789,  43.17329411]]])"
      ]
     },
     "execution_count": 13,
     "metadata": {},
     "output_type": "execute_result"
    }
   ],
   "source": [
    "ALLscore"
   ]
  },
  {
   "cell_type": "markdown",
   "metadata": {},
   "source": [
    "## 挑戰題一：\n",
    "\n",
    "請定義一個全班高微成績的函式，輸入是一個(3, 30, 3)的array，  \n",
    "表示3個班級中30位學生的成績(小考，期中考，期末考)  。\n",
    "\n",
    "目標輸出則是一個(3, 30, 1)的array，表示所有學生的期末成績，\n",
    "期末成績計算方式如下：\n",
    "\n",
    "1. 小考20%，期中考35%，期末考45%  \n",
    "2. 期中考40%，期末考60%。  \n",
    "擇優作為期末成績"
   ]
  },
  {
   "cell_type": "code",
   "execution_count": 14,
   "metadata": {},
   "outputs": [],
   "source": [
    "np.set_printoptions(suppress=True) #remove science notation\n",
    "\n",
    "A = np.random.rand(270).reshape(3,30,3)*100.0\n",
    "weights_1 = [0.2, 0.35, 0.45]\n",
    "weights_2 = [0.0, 0.40, 0.60]"
   ]
  },
  {
   "cell_type": "code",
   "execution_count": 17,
   "metadata": {},
   "outputs": [],
   "source": [
    "def Total_calc(SA, w1, w2):\n",
    "    W1Sum = np.sum(SA*w1, axis = 2)\n",
    "    W2Sum = np.sum(SA*w2, axis = 2)\n",
    "    WTotal = np.empty(shape=[3, 30, 1])\n",
    "    for i in range(3):\n",
    "        for j in range(30):\n",
    "           WTotal[i,j] = np.where(W1Sum[i,j] > W1Sum[i,j], W1Sum[i,j], W2Sum[i,j])\n",
    "    return WTotal"
   ]
  },
  {
   "cell_type": "code",
   "execution_count": 16,
   "metadata": {},
   "outputs": [
    {
     "data": {
      "text/plain": [
       "array([[[ 13.48941716],\n",
       "        [ 21.57819968],\n",
       "        [ 45.17614215],\n",
       "        [ 62.12025097],\n",
       "        [ 49.15363115],\n",
       "        [ 34.97189901],\n",
       "        [ 73.84563331],\n",
       "        [ 57.49142604],\n",
       "        [ 66.45872273],\n",
       "        [ 47.72761232],\n",
       "        [ 83.75341071],\n",
       "        [ 36.64021228],\n",
       "        [ 36.33757956],\n",
       "        [ 65.71935557],\n",
       "        [ 34.04772688],\n",
       "        [ 45.25580141],\n",
       "        [ 78.77460165],\n",
       "        [ 80.6098808 ],\n",
       "        [ 65.37395848],\n",
       "        [ 57.95999071],\n",
       "        [ 38.41624865],\n",
       "        [ 53.41259862],\n",
       "        [ 53.90833801],\n",
       "        [ 83.42544508],\n",
       "        [ 48.01329787],\n",
       "        [  5.06854679],\n",
       "        [ 45.86421365],\n",
       "        [ 43.77901984],\n",
       "        [ 32.22464567],\n",
       "        [ 23.15636652]],\n",
       "\n",
       "       [[ 12.64107272],\n",
       "        [ 12.27936245],\n",
       "        [ 14.48925712],\n",
       "        [ 54.26708911],\n",
       "        [ 50.79844718],\n",
       "        [ 70.41234662],\n",
       "        [ 72.06454422],\n",
       "        [  5.39684476],\n",
       "        [ 44.64210832],\n",
       "        [ 66.48932605],\n",
       "        [ 32.19900531],\n",
       "        [ 84.27686511],\n",
       "        [ 11.22870662],\n",
       "        [ 56.60057336],\n",
       "        [ 73.97377792],\n",
       "        [ 44.29546398],\n",
       "        [ 46.24866524],\n",
       "        [ 45.18035794],\n",
       "        [ 64.2957638 ],\n",
       "        [ 15.88280261],\n",
       "        [ 31.57243915],\n",
       "        [ 34.39854971],\n",
       "        [ 78.35861503],\n",
       "        [ 61.01361553],\n",
       "        [ 32.82554576],\n",
       "        [ 64.55471962],\n",
       "        [ 25.50694317],\n",
       "        [ 36.56347801],\n",
       "        [ 26.31305031],\n",
       "        [ 85.4076827 ]],\n",
       "\n",
       "       [[ 51.12359889],\n",
       "        [ 44.96703095],\n",
       "        [ 61.80640816],\n",
       "        [ 73.71664582],\n",
       "        [ 34.01777374],\n",
       "        [ 60.04605876],\n",
       "        [ 26.28168146],\n",
       "        [ 22.2479506 ],\n",
       "        [ 57.70732539],\n",
       "        [ 40.4625409 ],\n",
       "        [ 80.44607282],\n",
       "        [ 63.33788022],\n",
       "        [ 51.77428006],\n",
       "        [ 94.20761218],\n",
       "        [ 34.34209582],\n",
       "        [ 72.74304568],\n",
       "        [ 55.20675341],\n",
       "        [ 38.57704252],\n",
       "        [ 70.58715167],\n",
       "        [ 48.27458952],\n",
       "        [ 63.160065  ],\n",
       "        [ 55.41692848],\n",
       "        [ 11.55125908],\n",
       "        [ 70.32962355],\n",
       "        [ 78.14145475],\n",
       "        [ 67.12868456],\n",
       "        [ 18.90649331],\n",
       "        [ 31.4729862 ],\n",
       "        [ 63.84169289],\n",
       "        [ 53.1878825 ]]])"
      ]
     },
     "execution_count": 16,
     "metadata": {},
     "output_type": "execute_result"
    }
   ],
   "source": [
    "Total_calc(A,weights_1,weights_2)"
   ]
  },
  {
   "cell_type": "markdown",
   "metadata": {},
   "source": [
    "## 世紀魔鬼挑戰題（做完可以直接得到一百分）：\n",
    "## 美食沙漠的餐點推薦系統\n",
    "\n",
    "### Susan是個數學高手，每天專心研究高深數學理論，因此沒有時間想每一餐要吃什麽，請依照他的需求幫他做出各餐的推薦餐點。\n",
    " \n",
    "### 給定以下list:\n",
    "\n",
    "- breakfast_list = ['古早味', '德合香', '布朗奇早餐', '星巴克', '小貓咪', '傳香飯糰', '米塔', '麥當勞', '摩斯', '7-11', '全家']\n",
    "- lunch_and_dinner_list = ['小公寓', '波波恰恰', '湯饌', '享窩咖啡', '湯包', '殺人魔王', '呷麵騎士', '提洛斯', '蝴蝶漾', '東京小城', '金鰭', '樂山', 'My麵屋', '李氏餐酒館', '里克', '水煎包', '憩賢樓', '高句麗', '魯智深', '敏忠', '大正亭', '阿里郎', '鬼匠', 'Juicy Bun', '滇味廚房']\n",
    "- high_price_list = ['星巴克', '摩斯', '小公寓', '享窩咖啡', '金鰭', '李氏餐酒館', '里克', 'Juicy Bun', '滇味廚房']\n",
    "- snack_list = ['豆花', '政大烤場', '丐幫滷味', '鹹水雞']\n",
    " \n",
    "### 請遵守以下規則：\n",
    "\n",
    "1. 依照早餐-午餐-晚餐的順序決定\n",
    "2. 餐點必須用亂數決定\n",
    "3. 除了定義以上的list，不可以在其他地方出現字串\n",
    "(也就是說不可以決定午餐吃'小公寓'後，另外定義dinner = ['波波恰恰', '湯饌', '享窩咖啡',...]）\n",
    "4. 一天裡面只可以有一餐是屬於high_price\n",
    "5. 午餐跟晚餐我不想吃同一家\n",
    "6. 如果當天三餐都沒有屬於high_price的話，就要吃宵夜\n",
    "\n",
    "### 範例輸出:\n",
    "- Case 1:\n",
    "早餐：古早味\n",
    "午餐：提洛斯\n",
    "晚餐：大正亭\n",
    "宵夜：鹹水雞\n",
    "\n",
    "- Case 2:\n",
    "早餐：傳香飯糰\n",
    "午餐：小公寓\n",
    "晚餐：鬼匠"
   ]
  },
  {
   "cell_type": "code",
   "execution_count": 2,
   "metadata": {},
   "outputs": [
    {
     "name": "stdout",
     "output_type": "stream",
     "text": [
      "早餐: 德合香\n",
      "午餐: 鬼匠\n",
      "晚餐: 敏忠\n",
      "消夜: 鹹水雞\n"
     ]
    }
   ],
   "source": [
    "-\n"
   ]
  },
  {
   "cell_type": "code",
   "execution_count": 3,
   "metadata": {},
   "outputs": [
    {
     "name": "stdout",
     "output_type": "stream",
     "text": [
      "早餐: 摩斯\n",
      "午餐: 蝴蝶漾\n",
      "晚餐: 呷麵騎士\n"
     ]
    }
   ],
   "source": [
    "give_me_food(breakfast_list, lunch_and_dinner_list, high_price_list, snack_list)"
   ]
  },
  {
   "cell_type": "code",
   "execution_count": 4,
   "metadata": {},
   "outputs": [
    {
     "name": "stdout",
     "output_type": "stream",
     "text": [
      "早餐: 小貓咪\n",
      "午餐: 李氏餐酒館\n",
      "晚餐: My麵屋\n"
     ]
    }
   ],
   "source": [
    "give_me_food(breakfast_list, lunch_and_dinner_list, high_price_list, snack_list)"
   ]
  },
  {
   "cell_type": "code",
   "execution_count": 5,
   "metadata": {},
   "outputs": [
    {
     "name": "stdout",
     "output_type": "stream",
     "text": [
      "早餐: 全家\n",
      "午餐: 憩賢樓\n",
      "晚餐: 李氏餐酒館\n"
     ]
    }
   ],
   "source": [
    "give_me_food(breakfast_list, lunch_and_dinner_list, high_price_list, snack_list)"
   ]
  }
 ],
 "metadata": {
  "kernelspec": {
   "display_name": "Python 3",
   "language": "python",
   "name": "python3"
  },
  "language_info": {
   "codemirror_mode": {
    "name": "ipython",
    "version": 3
   },
   "file_extension": ".py",
   "mimetype": "text/x-python",
   "name": "python",
   "nbconvert_exporter": "python",
   "pygments_lexer": "ipython3",
   "version": "3.6.3"
  }
 },
 "nbformat": 4,
 "nbformat_minor": 2
}
