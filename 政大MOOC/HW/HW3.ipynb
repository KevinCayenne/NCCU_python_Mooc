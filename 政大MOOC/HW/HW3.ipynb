{
 "cells": [
  {
   "cell_type": "code",
   "execution_count": null,
   "metadata": {
    "collapsed": true
   },
   "outputs": [],
   "source": [
    "%matplotlib inline\n",
    "import numpy as np\n",
    "import matplotlib as plt"
   ]
  },
  {
   "cell_type": "markdown",
   "metadata": {},
   "source": [
    "## 第一題：\n",
    "\n",
    "題目：給定一個矩陣m，裡面的值都大於0。\n",
    "請將矩陣m裡大於等於1的數字都變成1，小於1的變成0。\n",
    "m = np.array([[0,1,10],[2,6,7]])\n",
    "提示：使用巢狀迴圈(nested loop)加判斷式"
   ]
  },
  {
   "cell_type": "code",
   "execution_count": null,
   "metadata": {
    "collapsed": true
   },
   "outputs": [],
   "source": [
    "m = np.array([[0,1,10],[2,6,7]])"
   ]
  },
  {
   "cell_type": "code",
   "execution_count": null,
   "metadata": {},
   "outputs": [],
   "source": [
    "m"
   ]
  },
  {
   "cell_type": "code",
   "execution_count": null,
   "metadata": {
    "collapsed": true
   },
   "outputs": [],
   "source": [
    "for i in range(m.shape[0]):\n",
    "    for j in range(m.shape[1]):\n",
    "        if m[i,j] >= 1:\n",
    "            m[i,j] = 1\n",
    "        elif m[i,j] < 1:\n",
    "            m[i,j] = 0"
   ]
  },
  {
   "cell_type": "code",
   "execution_count": null,
   "metadata": {},
   "outputs": [],
   "source": [
    "m"
   ]
  },
  {
   "cell_type": "markdown",
   "metadata": {},
   "source": [
    "## 第二題：\n",
    "有A,B,C三個班級，每班皆有10個學生，期中考結束後，老師希望計算各班級每位學生的加權平均成績。\n",
    "請隨機產生3個班級的成績單,每班10人,共五科,權重為weights=[0.25,0.25,0.25,0.15,0.10]。\n",
    "請算出班級加權平均成績，並以一個array輸出。"
   ]
  },
  {
   "cell_type": "code",
   "execution_count": null,
   "metadata": {
    "collapsed": true
   },
   "outputs": [],
   "source": [
    "A = np.random.rand(50).reshape(10,5)*100\n",
    "B = np.random.rand(50).reshape(10,5)*100\n",
    "C = np.random.rand(50).reshape(10,5)*100\n",
    "weights=[0.25,0.25,0.25,0.15,0.10]"
   ]
  },
  {
   "cell_type": "code",
   "execution_count": null,
   "metadata": {
    "collapsed": true
   },
   "outputs": [],
   "source": [
    "SA = np.sum([A*weights], axis=2)\n",
    "SB = np.sum([B*weights], axis=2)\n",
    "SC = np.sum([C*weights], axis=2)\n",
    "ALLscore = np.array([SA , SB , SC])"
   ]
  },
  {
   "cell_type": "code",
   "execution_count": null,
   "metadata": {},
   "outputs": [],
   "source": [
    "ALLscore"
   ]
  },
  {
   "cell_type": "markdown",
   "metadata": {},
   "source": [
    "## 挑戰題一：\n",
    "\n",
    "請定義一個全班高微成績的函式，輸入是一個(3, 30, 3)的array，  \n",
    "表示3個班級中30位學生的成績(小考，期中考，期末考)  。\n",
    "\n",
    "目標輸出則是一個(3, 30, 1)的array，表示所有學生的期末成績，\n",
    "期末成績計算方式如下：\n",
    "\n",
    "1. 小考20%，期中考35%，期末考45%  \n",
    "2. 期中考40%，期末考60%。  \n",
    "擇優作為期末成績"
   ]
  },
  {
   "cell_type": "code",
   "execution_count": null,
   "metadata": {
    "collapsed": true
   },
   "outputs": [],
   "source": [
    "np.set_printoptions(suppress=True) #remove science notation\n",
    "\n",
    "A = np.random.rand(270).reshape(3,30,3)*100.0\n",
    "weights_1 = [0.2, 0.35, 0.45]\n",
    "weights_2 = [0.0, 0.40, 0.60]"
   ]
  },
  {
   "cell_type": "code",
   "execution_count": null,
   "metadata": {
    "collapsed": true
   },
   "outputs": [],
   "source": [
    "def Total_calc(SA, w1, w2):\n",
    "    W1Sum = np.sum(SA*w1, axis = 2)\n",
    "    W2Sum = np.sum(SA*w2, axis = 2)\n",
    "    WTotal = np.empty(shape=[3, 30, 1])\n",
    "    for i in range(3):\n",
    "        for j in range(30):\n",
    "           WTotal[i,j] = np.where(W1Sum[i,j] > W1Sum[i,j], W1Sum[i,j], W2Sum[i,j])\n",
    "    return WTotal"
   ]
  },
  {
   "cell_type": "code",
   "execution_count": null,
   "metadata": {},
   "outputs": [],
   "source": [
    "Total_calc(A,weights_1,weights_2)"
   ]
  },
  {
   "cell_type": "markdown",
   "metadata": {},
   "source": [
    "## 世紀魔鬼挑戰題（做完可以直接得到一百分）：\n",
    "## 美食沙漠的餐點推薦系統\n",
    "\n",
    "### Susan是個數學高手，每天專心研究高深數學理論，因此沒有時間想每一餐要吃什麽，請依照他的需求幫他做出各餐的推薦餐點。\n",
    " \n",
    "### 給定以下list:\n",
    "\n",
    "- breakfast_list = ['古早味', '德合香', '布朗奇早餐', '星巴克', '小貓咪', '傳香飯糰', '米塔', '麥當勞', '摩斯', '7-11', '全家']\n",
    "- lunch_and_dinner_list = ['小公寓', '波波恰恰', '湯饌', '享窩咖啡', '湯包', '殺人魔王', '呷麵騎士', '提洛斯', '蝴蝶漾', '東京小城', '金鰭', '樂山', 'My麵屋', '李氏餐酒館', '里克', '水煎包', '憩賢樓', '高句麗', '魯智深', '敏忠', '大正亭', '阿里郎', '鬼匠', 'Juicy Bun', '滇味廚房']\n",
    "- high_price_list = ['星巴克', '摩斯', '小公寓', '享窩咖啡', '金鰭', '李氏餐酒館', '里克', 'Juicy Bun', '滇味廚房']\n",
    "- snack_list = ['豆花', '政大烤場', '丐幫滷味', '鹹水雞']\n",
    " \n",
    "### 請遵守以下規則：\n",
    "\n",
    "1. 依照早餐-午餐-晚餐的順序決定\n",
    "2. 餐點必須用亂數決定\n",
    "3. 除了定義以上的list，不可以在其他地方出現字串\n",
    "(也就是說不可以決定午餐吃'小公寓'後，另外定義dinner = ['波波恰恰', '湯饌', '享窩咖啡',...]）\n",
    "4. 一天裡面只可以有一餐是屬於high_price\n",
    "5. 午餐跟晚餐我不想吃同一家\n",
    "6. 如果當天三餐都沒有屬於high_price的話，就要吃宵夜\n",
    "\n",
    "### 範例輸出:\n",
    "- Case 1:\n",
    "早餐：古早味\n",
    "午餐：提洛斯\n",
    "晚餐：大正亭\n",
    "宵夜：鹹水雞\n",
    "\n",
    "- Case 2:\n",
    "早餐：傳香飯糰\n",
    "午餐：小公寓\n",
    "晚餐：鬼匠"
   ]
  },
  {
   "cell_type": "code",
   "execution_count": null,
   "metadata": {},
   "outputs": [],
   "source": [
    "import random\n",
    "\n",
    "breakfast_list = ['古早味', '德合香', '布朗奇早餐', '星巴克', '小貓咪', '傳香飯糰', '米塔', '麥當勞', '摩斯', '7-11', '全家'] \n",
    "lunch_and_dinner_list = ['小公寓', '波波恰恰', '湯饌', '享窩咖啡', '湯包', '殺人魔王', '呷麵騎士', '提洛斯', '蝴蝶漾', '東京小城', '金鰭', '樂山', 'My麵屋', '李氏餐酒館', '里克', '水煎包', '憩賢樓', '高句麗', '魯智深', '敏忠', '大正亭', '阿里郎', '鬼匠', 'Juicy Bun', '滇味廚房'] \n",
    "high_price_list = ['星巴克', '摩斯', '小公寓', '享窩咖啡', '金鰭', '李氏餐酒館', '里克', 'Juicy Bun', '滇味廚房'] \n",
    "snack_list = ['豆花', '政大烤場', '丐幫滷味', '鹹水雞']\n",
    "\n",
    "def choose_food(breakfast, lunch_and_dinner):\n",
    "    rB = random.choice(breakfast)\n",
    "    rL = random.choice(lunch_and_dinner)\n",
    "    rD = random.choice(lunch_and_dinner)\n",
    "    rS = random.choice(snack_list)\n",
    "    return (rB, rL, rD, rS)\n",
    "\n",
    "def is_same(F):\n",
    "    if F[1] == F[2]:\n",
    "        return False\n",
    "    else:\n",
    "        return True\n",
    "\n",
    "def is_high(F):\n",
    "    count = 0\n",
    "    for i in range(len(F)):\n",
    "        if (F[i] in high_price_list):\n",
    "            count += 1 \n",
    "    if count > 1:\n",
    "        return False\n",
    "    else: \n",
    "        return True\n",
    "\n",
    "def is_nohigh(F):\n",
    "    count = 0\n",
    "    for i in range(len(F)):\n",
    "        if (F[i] in high_price_list):\n",
    "            count += 1 \n",
    "    if count == 0:\n",
    "        return True\n",
    "\n",
    "def give_me_food(breakfast_list, lunch_and_dinner_list, high_price_list, snack_list):\n",
    "    \n",
    "    FA = choose_food(breakfast_list, lunch_and_dinner_list)\n",
    "    \n",
    "    while(is_same(FA)&is_high(FA) != True):\n",
    "        choose_food(breakfast_list, lunch_and_dinner_list)\n",
    "    \n",
    "    if(is_nohigh(FA)):\n",
    "        return print(\"早餐: {}\\n午餐: {}\\n晚餐: {}\\n消夜: {}\".format(FA[0], FA[1], FA[2], FA[3]))\n",
    "    else:\n",
    "        return print(\"早餐: {}\\n午餐: {}\\n晚餐: {}\".format(FA[0], FA[1], FA[2]))\n",
    "    \n",
    "    \n",
    "give_me_food(breakfast_list, lunch_and_dinner_list, high_price_list, snack_list)"
   ]
  },
  {
   "cell_type": "code",
   "execution_count": null,
   "metadata": {},
   "outputs": [],
   "source": [
    "give_me_food(breakfast_list, lunch_and_dinner_list, high_price_list, snack_list)"
   ]
  },
  {
   "cell_type": "code",
   "execution_count": null,
   "metadata": {},
   "outputs": [],
   "source": [
    "give_me_food(breakfast_list, lunch_and_dinner_list, high_price_list, snack_list)"
   ]
  },
  {
   "cell_type": "code",
   "execution_count": null,
   "metadata": {
    "collapsed": true
   },
   "outputs": [],
   "source": []
  }
 ],
 "metadata": {
  "kernelspec": {
   "display_name": "Python 3",
   "language": "python",
   "name": "python3"
  },
  "language_info": {
   "codemirror_mode": {
    "name": "ipython",
    "version": 3
   },
   "file_extension": ".py",
   "mimetype": "text/x-python",
   "name": "python",
   "nbconvert_exporter": "python",
   "pygments_lexer": "ipython3",
   "version": "3.6.3"
  }
 },
 "nbformat": 4,
 "nbformat_minor": 2
}
