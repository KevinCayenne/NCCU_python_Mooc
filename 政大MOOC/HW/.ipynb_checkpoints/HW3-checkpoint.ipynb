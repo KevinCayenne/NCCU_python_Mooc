{
 "cells": [
  {
   "cell_type": "code",
   "execution_count": 2,
   "metadata": {
    "collapsed": true
   },
   "outputs": [],
   "source": [
    "%matplotlib inline\n",
    "import numpy as np\n",
    "import matplotlib as plt"
   ]
  },
  {
   "cell_type": "markdown",
   "metadata": {},
   "source": [
    "## 第一題：\n",
    "\n",
    "題目：給定一個矩陣m，裡面的值都大於0。\n",
    "請將矩陣m裡大於等於1的數字都變成1，小於1的變成0。\n",
    "m = np.array([[0,1,10],[2,6,7]])\n",
    "提示：使用巢狀迴圈(nested loop)加判斷式"
   ]
  },
  {
   "cell_type": "code",
   "execution_count": 3,
   "metadata": {
    "collapsed": true
   },
   "outputs": [],
   "source": [
    "m = np.array([[0,1,10],[2,6,7]])"
   ]
  },
  {
   "cell_type": "code",
   "execution_count": 4,
   "metadata": {},
   "outputs": [
    {
     "data": {
      "text/plain": [
       "array([[ 0,  1, 10],\n",
       "       [ 2,  6,  7]])"
      ]
     },
     "execution_count": 4,
     "metadata": {},
     "output_type": "execute_result"
    }
   ],
   "source": [
    "m"
   ]
  },
  {
   "cell_type": "code",
   "execution_count": 5,
   "metadata": {
    "collapsed": true
   },
   "outputs": [],
   "source": [
    "for i in range(m.shape[0]):\n",
    "    for j in range(m.shape[1]):\n",
    "        if m[i,j] >= 1:\n",
    "            m[i,j] = 1\n",
    "        elif m[i,j] < 1:\n",
    "            m[i,j] = 0"
   ]
  },
  {
   "cell_type": "code",
   "execution_count": 6,
   "metadata": {},
   "outputs": [
    {
     "data": {
      "text/plain": [
       "array([[0, 1, 1],\n",
       "       [1, 1, 1]])"
      ]
     },
     "execution_count": 6,
     "metadata": {},
     "output_type": "execute_result"
    }
   ],
   "source": [
    "m"
   ]
  },
  {
   "cell_type": "markdown",
   "metadata": {},
   "source": [
    "## 第二題：\n",
    "有A,B,C三個班級，每班皆有10個學生，期中考結束後，老師希望計算各班級每位學生的加權平均成績。\n",
    "請隨機產生3個班級的成績單,每班10人,共五科,權重為weights=[0.25,0.25,0.25,0.15,0.10]。\n",
    "請算出班級加權平均成績，並以一個array輸出。"
   ]
  },
  {
   "cell_type": "code",
   "execution_count": 7,
   "metadata": {
    "collapsed": true
   },
   "outputs": [],
   "source": [
    "A = np.random.rand(50).reshape(10,5)*100\n",
    "B = np.random.rand(50).reshape(10,5)*100\n",
    "C = np.random.rand(50).reshape(10,5)*100\n",
    "weights=[0.25,0.25,0.25,0.15,0.10]"
   ]
  },
  {
   "cell_type": "code",
   "execution_count": 8,
   "metadata": {
    "collapsed": true
   },
   "outputs": [],
   "source": [
    "SA = np.sum([A*weights], axis=2)\n",
    "SB = np.sum([B*weights], axis=2)\n",
    "SC = np.sum([C*weights], axis=2)\n",
    "ALLscore = np.array([SA , SB , SC])"
   ]
  },
  {
   "cell_type": "code",
   "execution_count": 9,
   "metadata": {},
   "outputs": [
    {
     "data": {
      "text/plain": [
       "array([[[ 61.71403197,  50.17776709,  42.0743252 ,  55.26335556,\n",
       "          56.69917784,  58.49299709,  27.94807129,  44.48611594,\n",
       "          44.59715891,  58.70078938]],\n",
       "\n",
       "       [[ 36.4980343 ,  60.56119181,  44.77121457,  59.10371152,\n",
       "          44.45156082,  57.44450447,  60.70067255,  57.19242191,\n",
       "          19.14463876,  47.10895301]],\n",
       "\n",
       "       [[ 76.63274443,  69.38348742,  52.95992773,  25.8994271 ,\n",
       "          82.92005863,  28.10516641,  58.65088147,  22.83149827,\n",
       "          36.23605668,  51.21706341]]])"
      ]
     },
     "execution_count": 9,
     "metadata": {},
     "output_type": "execute_result"
    }
   ],
   "source": [
    "ALLscore"
   ]
  },
  {
   "cell_type": "markdown",
   "metadata": {},
   "source": [
    "## 挑戰題一：\n",
    "\n",
    "請定義一個全班高微成績的函式，輸入是一個(3, 30, 3)的array，  \n",
    "表示3個班級中30位學生的成績(小考，期中考，期末考)  。\n",
    "\n",
    "目標輸出則是一個(3, 30, 1)的array，表示所有學生的期末成績，\n",
    "期末成績計算方式如下：\n",
    "\n",
    "1. 小考20%，期中考35%，期末考45%  \n",
    "2. 期中考40%，期末考60%。  \n",
    "擇優作為期末成績"
   ]
  },
  {
   "cell_type": "code",
   "execution_count": 10,
   "metadata": {
    "collapsed": true
   },
   "outputs": [],
   "source": [
    "np.set_printoptions(suppress=True) #remove science notation\n",
    "\n",
    "A = np.random.rand(270).reshape(3,30,3)*100.0\n",
    "weights_1 = [0.2, 0.35, 0.45]\n",
    "weights_2 = [0.0, 0.40, 0.60]"
   ]
  },
  {
   "cell_type": "code",
   "execution_count": 11,
   "metadata": {
    "collapsed": true
   },
   "outputs": [],
   "source": [
    "def Total_calc(SA, w1, w2):\n",
    "    W1Sum = np.sum(SA*w1, axis = 2)\n",
    "    W2Sum = np.sum(SA*w2, axis = 2)\n",
    "    WTotal = np.empty(shape=[3, 30, 1])\n",
    "    for i in range(3):\n",
    "        for j in range(30):\n",
    "           WTotal[i,j] = np.where(W1Sum[i,j] > W1Sum[i,j], W1Sum[i,j], W2Sum[i,j])\n",
    "    return WTotal"
   ]
  },
  {
   "cell_type": "code",
   "execution_count": 12,
   "metadata": {},
   "outputs": [
    {
     "data": {
      "text/plain": [
       "array([[[ 53.9926015 ],\n",
       "        [ 29.75148693],\n",
       "        [ 20.50061421],\n",
       "        [ 22.89989004],\n",
       "        [ 31.30530509],\n",
       "        [ 38.02100154],\n",
       "        [ 83.7522294 ],\n",
       "        [ 44.27584734],\n",
       "        [ 83.54980799],\n",
       "        [ 18.87379246],\n",
       "        [ 61.07793125],\n",
       "        [ 59.99233509],\n",
       "        [ 52.17447755],\n",
       "        [ 75.5818674 ],\n",
       "        [ 44.02262557],\n",
       "        [ 28.36826477],\n",
       "        [ 52.7929424 ],\n",
       "        [ 50.65984486],\n",
       "        [ 62.66910187],\n",
       "        [ 56.99747349],\n",
       "        [ 34.29506616],\n",
       "        [ 38.18628891],\n",
       "        [ 37.22726284],\n",
       "        [ 71.34106007],\n",
       "        [ 36.20351934],\n",
       "        [ 27.43319035],\n",
       "        [ 50.09184741],\n",
       "        [ 28.19363479],\n",
       "        [ 34.25398884],\n",
       "        [ 33.99631037]],\n",
       "\n",
       "       [[ 75.8077187 ],\n",
       "        [ 39.94566895],\n",
       "        [  5.52897716],\n",
       "        [ 64.63151177],\n",
       "        [ 45.42702449],\n",
       "        [ 51.26579403],\n",
       "        [ 72.1782105 ],\n",
       "        [ 63.49944067],\n",
       "        [ 44.38198491],\n",
       "        [ 90.47839117],\n",
       "        [ 69.19207984],\n",
       "        [ 84.34474238],\n",
       "        [ 45.18972146],\n",
       "        [ 73.69588748],\n",
       "        [ 18.24445102],\n",
       "        [ 20.79093388],\n",
       "        [ 24.50388694],\n",
       "        [ 23.0011458 ],\n",
       "        [ 59.45088069],\n",
       "        [ 54.70605951],\n",
       "        [ 28.9987968 ],\n",
       "        [ 50.026446  ],\n",
       "        [ 23.92345912],\n",
       "        [  9.75027878],\n",
       "        [ 86.44969878],\n",
       "        [ 58.74994182],\n",
       "        [ 30.26042149],\n",
       "        [ 20.4532214 ],\n",
       "        [ 43.86893666],\n",
       "        [ 82.85230231]],\n",
       "\n",
       "       [[ 24.54042394],\n",
       "        [ 59.81205082],\n",
       "        [ 39.64692573],\n",
       "        [ 58.57948782],\n",
       "        [ 38.59947518],\n",
       "        [ 57.09628523],\n",
       "        [ 40.74942219],\n",
       "        [ 52.9621356 ],\n",
       "        [ 31.36536943],\n",
       "        [ 38.77157342],\n",
       "        [ 77.20795636],\n",
       "        [ 37.38560838],\n",
       "        [ 52.39384501],\n",
       "        [ 40.6595246 ],\n",
       "        [ 47.70834157],\n",
       "        [ 14.74804741],\n",
       "        [ 42.65218065],\n",
       "        [ 32.15307766],\n",
       "        [ 68.6277879 ],\n",
       "        [ 96.01859703],\n",
       "        [ 56.35641362],\n",
       "        [ 45.61705478],\n",
       "        [ 67.82807624],\n",
       "        [ 48.99937457],\n",
       "        [ 87.48587075],\n",
       "        [ 72.09593471],\n",
       "        [ 44.78061315],\n",
       "        [ 88.84535673],\n",
       "        [ 90.83648108],\n",
       "        [ 92.98790727]]])"
      ]
     },
     "execution_count": 12,
     "metadata": {},
     "output_type": "execute_result"
    }
   ],
   "source": [
    "Total_calc(A,weights_1,weights_2)"
   ]
  },
  {
   "cell_type": "markdown",
   "metadata": {},
   "source": [
    "## 世紀魔鬼挑戰題（做完可以直接得到一百分）：\n",
    "## 美食沙漠的餐點推薦系統\n",
    "\n",
    "### Susan是個數學高手，每天專心研究高深數學理論，因此沒有時間想每一餐要吃什麽，請依照他的需求幫他做出各餐的推薦餐點。\n",
    " \n",
    "### 給定以下list:\n",
    "\n",
    "- breakfast_list = ['古早味', '德合香', '布朗奇早餐', '星巴克', '小貓咪', '傳香飯糰', '米塔', '麥當勞', '摩斯', '7-11', '全家']\n",
    "- lunch_and_dinner_list = ['小公寓', '波波恰恰', '湯饌', '享窩咖啡', '湯包', '殺人魔王', '呷麵騎士', '提洛斯', '蝴蝶漾', '東京小城', '金鰭', '樂山', 'My麵屋', '李氏餐酒館', '里克', '水煎包', '憩賢樓', '高句麗', '魯智深', '敏忠', '大正亭', '阿里郎', '鬼匠', 'Juicy Bun', '滇味廚房']\n",
    "- high_price_list = ['星巴克', '摩斯', '小公寓', '享窩咖啡', '金鰭', '李氏餐酒館', '里克', 'Juicy Bun', '滇味廚房']\n",
    "- snack_list = ['豆花', '政大烤場', '丐幫滷味', '鹹水雞']\n",
    " \n",
    "### 請遵守以下規則：\n",
    "\n",
    "1. 依照早餐-午餐-晚餐的順序決定\n",
    "2. 餐點必須用亂數決定\n",
    "3. 除了定義以上的list，不可以在其他地方出現字串\n",
    "(也就是說不可以決定午餐吃'小公寓'後，另外定義dinner = ['波波恰恰', '湯饌', '享窩咖啡',...]）\n",
    "4. 一天裡面只可以有一餐是屬於high_price\n",
    "5. 午餐跟晚餐我不想吃同一家\n",
    "6. 如果當天三餐都沒有屬於high_price的話，就要吃宵夜\n",
    "\n",
    "### 範例輸出:\n",
    "- Case 1:\n",
    "早餐：古早味\n",
    "午餐：提洛斯\n",
    "晚餐：大正亭\n",
    "宵夜：鹹水雞\n",
    "\n",
    "- Case 2:\n",
    "早餐：傳香飯糰\n",
    "午餐：小公寓\n",
    "晚餐：鬼匠"
   ]
  },
  {
   "cell_type": "code",
   "execution_count": null,
   "metadata": {},
   "outputs": [],
   "source": [
    "import random\n",
    "\n",
    "breakfast_list = ['古早味', '德合香', '布朗奇早餐', '星巴克', '小貓咪', '傳香飯糰', '米塔', '麥當勞', '摩斯', '7-11', '全家'] \n",
    "lunch_and_dinner_list = ['小公寓', '波波恰恰', '湯饌', '享窩咖啡', '湯包', '殺人魔王', '呷麵騎士', '提洛斯', '蝴蝶漾', '東京小城', '金鰭', '樂山', 'My麵屋', '李氏餐酒館', '里克', '水煎包', '憩賢樓', '高句麗', '魯智深', '敏忠', '大正亭', '阿里郎', '鬼匠', 'Juicy Bun', '滇味廚房'] \n",
    "high_price_list = ['星巴克', '摩斯', '小公寓', '享窩咖啡', '金鰭', '李氏餐酒館', '里克', 'Juicy Bun', '滇味廚房'] \n",
    "snack_list = ['豆花', '政大烤場', '丐幫滷味', '鹹水雞']\n",
    "\n",
    "def choose_food(breakfast, lunch_and_dinner):\n",
    "    rB = random.choice(breakfast)\n",
    "    rL = random.choice(lunch_and_dinner)\n",
    "    rD = random.choice(lunch_and_dinner)\n",
    "    rS = random.choice(snack_list)\n",
    "    return (rB, rL, rD, rS)\n",
    "\n",
    "def is_same(F):\n",
    "    if F[1] == F[2]:\n",
    "        return False\n",
    "    else:\n",
    "        return True\n",
    "\n",
    "def is_high(F):\n",
    "    count = 0\n",
    "    for i in range(len(F)):\n",
    "        if (F[i] in high_price_list):\n",
    "            count += 1 \n",
    "    if count > 1:\n",
    "        return False\n",
    "    else: \n",
    "        return True\n",
    "\n",
    "def is_nohigh(F):\n",
    "    count = 0\n",
    "    for i in range(len(F)):\n",
    "        if (F[i] in high_price_list):\n",
    "            count += 1 \n",
    "    if count == 0:\n",
    "        return True\n",
    "\n",
    "def give_me_food(breakfast_list, lunch_and_dinner_list, high_price_list, snack_list):\n",
    "    \n",
    "    FA = choose_food(breakfast_list, lunch_and_dinner_list)\n",
    "    \n",
    "    while(is_same(FA)&is_high(FA) != True):\n",
    "        choose_food(breakfast_list, lunch_and_dinner_list)\n",
    "    \n",
    "    if(is_nohigh(FA)):\n",
    "        return print(\"早餐: {}\\n午餐: {}\\n晚餐: {}\\n消夜: {}\".format(FA[0], FA[1], FA[2], FA[3]))\n",
    "    else:\n",
    "        return print(\"早餐: {}\\n午餐: {}\\n晚餐: {}\".format(FA[0], FA[1], FA[2]))\n",
    "    \n",
    "    \n",
    "give_me_food(breakfast_list, lunch_and_dinner_list, high_price_list, snack_list)"
   ]
  },
  {
   "cell_type": "code",
   "execution_count": null,
   "metadata": {},
   "outputs": [],
   "source": [
    "give_me_food(breakfast_list, lunch_and_dinner_list, high_price_list, snack_list)"
   ]
  },
  {
   "cell_type": "code",
   "execution_count": null,
   "metadata": {},
   "outputs": [],
   "source": [
    "give_me_food(breakfast_list, lunch_and_dinner_list, high_price_list, snack_list)"
   ]
  },
  {
   "cell_type": "code",
   "execution_count": null,
   "metadata": {
    "collapsed": true
   },
   "outputs": [],
   "source": []
  }
 ],
 "metadata": {
  "kernelspec": {
   "display_name": "Python 3",
   "language": "python",
   "name": "python3"
  },
  "language_info": {
   "codemirror_mode": {
    "name": "ipython",
    "version": 3
   },
   "file_extension": ".py",
   "mimetype": "text/x-python",
   "name": "python",
   "nbconvert_exporter": "python",
   "pygments_lexer": "ipython3",
   "version": "3.6.3"
  }
 },
 "nbformat": 4,
 "nbformat_minor": 2
}
