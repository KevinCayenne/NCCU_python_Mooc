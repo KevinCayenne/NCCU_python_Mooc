{
 "cells": [
  {
   "cell_type": "markdown",
   "metadata": {},
   "source": [
    "# 第一題"
   ]
  },
  {
   "cell_type": "code",
   "execution_count": 1,
   "metadata": {},
   "outputs": [
    {
     "name": "stdout",
     "output_type": "stream",
     "text": [
      "Populating the interactive namespace from numpy and matplotlib\n"
     ]
    }
   ],
   "source": [
    "%pylab inline"
   ]
  },
  {
   "cell_type": "code",
   "execution_count": 18,
   "metadata": {},
   "outputs": [
    {
     "name": "stdout",
     "output_type": "stream",
     "text": [
      ">> 23\n",
      "太大\n",
      ">> 10\n",
      "太小\n",
      ">> 20\n",
      "答對了！\n"
     ]
    }
   ],
   "source": [
    "k = randint(1,101)\n",
    "messege = int(input('>> '))\n",
    "while (messege != k):\n",
    "    if (messege > k):\n",
    "        print(\"太大\")\n",
    "        messege = int(input('>> '))\n",
    "    elif (messege < k):\n",
    "        print(\"太小\")\n",
    "        messege = int(input('>> '))\n",
    "if (messege == k):\n",
    "    print(\"答對了:)\")"
   ]
  },
  {
   "cell_type": "markdown",
   "metadata": {},
   "source": [
    "# 第二題"
   ]
  },
  {
   "cell_type": "code",
   "execution_count": 1,
   "metadata": {},
   "outputs": [
    {
     "name": "stdout",
     "output_type": "stream",
     "text": [
      ">> 政大好窮\n",
      "感恩土皇帝，讚嘆土皇帝\n",
      ">> 天龍院為什麼一直被黑特\n",
      "感恩土皇帝，讚嘆土皇帝\n",
      ">> 期中考好討厭\n",
      "感恩土皇帝，讚嘆土皇帝\n",
      ">> 我想睡覺\n",
      "感恩土皇帝，讚嘆土皇帝\n",
      ">> 掰掰\n"
     ]
    }
   ],
   "source": [
    "god = '土皇帝'\n",
    "messege = input(\">> \")\n",
    "while (messege != \"掰掰\"): \n",
    "    print('感恩{}，讚嘆{}'.format(god,god))\n",
    "    messege = input(\">> \")"
   ]
  },
  {
   "cell_type": "markdown",
   "metadata": {},
   "source": [
    "# 第三題"
   ]
  },
  {
   "cell_type": "code",
   "execution_count": 20,
   "metadata": {},
   "outputs": [
    {
     "name": "stdout",
     "output_type": "stream",
     "text": [
      "olleh"
     ]
    }
   ],
   "source": [
    "st = \"hello\"\n",
    "def reverse(st):\n",
    "    a = len(st)\n",
    "    while a != 0:\n",
    "        print(st[a - 1],end='')\n",
    "        a = a - 1 \n",
    "reverse(st)"
   ]
  },
  {
   "cell_type": "markdown",
   "metadata": {
    "collapsed": true
   },
   "source": [
    "# 挑戰題一"
   ]
  },
  {
   "cell_type": "code",
   "execution_count": 60,
   "metadata": {},
   "outputs": [
    {
     "name": "stdout",
     "output_type": "stream",
     "text": [
      "2014年是甲午年\n",
      "2015年是乙未年\n",
      "2016年是丙申年\n",
      "2017年是丁酉年\n",
      "2018年是戊戌年\n",
      "2019年是己亥年\n",
      "2020年是庚子年\n",
      "2021年是辛丑年\n",
      "2022年是壬寅年\n",
      "2023年是癸卯年\n",
      "2024年是甲辰年\n",
      "2025年是乙巳年\n",
      "2026年是丙午年\n",
      "2027年是丁未年\n",
      "2028年是戊申年\n",
      "2029年是己酉年\n",
      "2030年是庚戌年\n",
      "2031年是辛亥年\n",
      "2032年是壬子年\n",
      "2033年是癸丑年\n",
      "2034年是甲寅年\n",
      "2035年是乙卯年\n",
      "2036年是丙辰年\n",
      "2037年是丁巳年\n",
      "2038年是戊午年\n",
      "2039年是己未年\n",
      "2040年是庚申年\n",
      "2041年是辛酉年\n",
      "2042年是壬戌年\n",
      "2043年是癸亥年\n",
      "2044年是甲子年\n",
      "2045年是乙丑年\n",
      "2046年是丙寅年\n",
      "2047年是丁卯年\n",
      "2048年是戊辰年\n",
      "2049年是己巳年\n",
      "2050年是庚午年\n",
      "2051年是辛未年\n",
      "2052年是壬申年\n",
      "2053年是癸酉年\n",
      "2054年是甲戌年\n",
      "2055年是乙亥年\n",
      "2056年是丙子年\n",
      "2057年是丁丑年\n",
      "2058年是戊寅年\n",
      "2059年是己卯年\n",
      "2060年是庚辰年\n",
      "2061年是辛巳年\n",
      "2062年是壬午年\n",
      "2063年是癸未年\n",
      "2064年是甲申年\n",
      "2065年是乙酉年\n",
      "2066年是丙戌年\n",
      "2067年是丁亥年\n",
      "2068年是戊子年\n",
      "2069年是己丑年\n",
      "2070年是庚寅年\n",
      "2071年是辛卯年\n",
      "2072年是壬辰年\n",
      "2073年是癸巳年\n"
     ]
    }
   ],
   "source": [
    "天干 = [\"甲\",\"乙\",\"丙\",\"丁\",\"戊\",\"己\",\"庚\",\"辛\",\"壬\",\"癸\"]\n",
    "地支 = [\"午\",\"未\",\"申\",\"酉\",\"戌\",\"亥\",\"子\",\"丑\",\"寅\",\"卯\",\"辰\",\"巳\"]\n",
    "year = 2014\n",
    "for i in range(0,60):\n",
    "    print(str(year) + \"年是\" + 天干[i%10] + 地支[i%12] + \"年\")\n",
    "    year = year + 1\n",
    "    i = i + 1"
   ]
  },
  {
   "cell_type": "markdown",
   "metadata": {
    "collapsed": true
   },
   "source": [
    "# 挑戰題二"
   ]
  },
  {
   "cell_type": "code",
   "execution_count": 61,
   "metadata": {
    "collapsed": true
   },
   "outputs": [],
   "source": [
    "def tree(int):\n",
    "    for i in range(1,int+1):\n",
    "        print(\" \"*(int-1) + \"*\"*(2*i-1) + \" \"*(int-1))\n",
    "        int = int - 1"
   ]
  },
  {
   "cell_type": "code",
   "execution_count": 62,
   "metadata": {},
   "outputs": [
    {
     "name": "stdout",
     "output_type": "stream",
     "text": [
      "                   *                   \n",
      "                  ***                  \n",
      "                 *****                 \n",
      "                *******                \n",
      "               *********               \n",
      "              ***********              \n",
      "             *************             \n",
      "            ***************            \n",
      "           *****************           \n",
      "          *******************          \n",
      "         *********************         \n",
      "        ***********************        \n",
      "       *************************       \n",
      "      ***************************      \n",
      "     *****************************     \n",
      "    *******************************    \n",
      "   *********************************   \n",
      "  ***********************************  \n",
      " ************************************* \n",
      "***************************************\n"
     ]
    }
   ],
   "source": [
    "tree(20)"
   ]
  },
  {
   "cell_type": "markdown",
   "metadata": {},
   "source": [
    "# 挑戰題三"
   ]
  },
  {
   "cell_type": "markdown",
   "metadata": {},
   "source": [
    "## 讓電腦跟你玩猜拳，能夠玩一次，僅限輸入\"剪刀\"\"石頭\"和\"布\""
   ]
  },
  {
   "cell_type": "code",
   "execution_count": 1,
   "metadata": {
    "scrolled": true
   },
   "outputs": [
    {
     "name": "stdout",
     "output_type": "stream",
     "text": [
      "Populating the interactive namespace from numpy and matplotlib\n"
     ]
    }
   ],
   "source": [
    "%pylab inline"
   ]
  },
  {
   "cell_type": "code",
   "execution_count": 2,
   "metadata": {},
   "outputs": [
    {
     "name": "stdout",
     "output_type": "stream",
     "text": [
      "來猜拳吧(･ω´･ )剪刀\n",
      "石頭 你輸了嘿嘿嘿\n"
     ]
    }
   ],
   "source": [
    "a = randint(1,4)\n",
    "b = \"\"\n",
    "messege = input(\"來猜拳吧(･ω´･ )\")\n",
    "if a == 1:\n",
    "    b = b + \"剪刀\"\n",
    "    if messege == b:\n",
    "        print(b + \" 平手\")\n",
    "    elif messege == \"石頭\":\n",
    "        print(b + \" 你贏了森77\")\n",
    "    else:\n",
    "        print(b + \" 你輸了嘿嘿嘿\")\n",
    "elif a == 2:\n",
    "    b = b + \"石頭\"\n",
    "    if messege == b:\n",
    "        print(b + \" 平手\")\n",
    "    elif messege == \"布\":\n",
    "        print(b + \" 你贏了森77\")\n",
    "    else:\n",
    "        print(b + \" 你輸了嘿嘿嘿\")\n",
    "else:\n",
    "    b = b + \"布\"\n",
    "    if messege == b:\n",
    "        print(b + \" 平手\")\n",
    "    elif messege == \"剪刀\":\n",
    "        print(b + \" 你贏了森77\")\n",
    "    else:\n",
    "        print(b + \" 你輸了嘿嘿嘿\")"
   ]
  },
  {
   "cell_type": "code",
   "execution_count": null,
   "metadata": {
    "collapsed": true
   },
   "outputs": [],
   "source": []
  }
 ],
 "metadata": {
  "kernelspec": {
   "display_name": "Python 3",
   "language": "python",
   "name": "python3"
  },
  "language_info": {
   "codemirror_mode": {
    "name": "ipython",
    "version": 3
   },
   "file_extension": ".py",
   "mimetype": "text/x-python",
   "name": "python",
   "nbconvert_exporter": "python",
   "pygments_lexer": "ipython3",
   "version": "3.6.2"
  }
 },
 "nbformat": 4,
 "nbformat_minor": 2
}
