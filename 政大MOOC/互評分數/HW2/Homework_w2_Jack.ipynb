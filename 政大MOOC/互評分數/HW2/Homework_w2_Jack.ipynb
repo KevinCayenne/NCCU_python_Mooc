{
 "cells": [
  {
   "cell_type": "code",
   "execution_count": 1,
   "metadata": {},
   "outputs": [
    {
     "name": "stdout",
     "output_type": "stream",
     "text": [
      "Populating the interactive namespace from numpy and matplotlib\n"
     ]
    }
   ],
   "source": [
    "%pylab inline"
   ]
  },
  {
   "cell_type": "markdown",
   "metadata": {},
   "source": [
    "Q1"
   ]
  },
  {
   "cell_type": "code",
   "execution_count": 6,
   "metadata": {},
   "outputs": [
    {
     "name": "stdout",
     "output_type": "stream",
     "text": [
      "Guess an integer for 1 to 10 >>5\n",
      "Bigger, try again !!>>8\n",
      "Smaller, try again !!>>7\n",
      "You got it !!\n"
     ]
    }
   ],
   "source": [
    "a = randint(1,10)\n",
    "message = input(\"Guess an integer for 1 to 10 >>\")\n",
    "while (int(message) != a ):\n",
    "    if (int(message)>a):\n",
    "        #print(\"Smaller : {}\".format(a) )\n",
    "        message = input(\"Smaller, try again !!>>\")\n",
    "    else:\n",
    "        #print(\"bigger : {}\".format(a) )\n",
    "        message = input(\"Bigger, try again !!>>\")\n",
    "else:\n",
    "    print(\"You got it !!\")"
   ]
  },
  {
   "cell_type": "markdown",
   "metadata": {},
   "source": [
    "Q2"
   ]
  },
  {
   "cell_type": "code",
   "execution_count": 8,
   "metadata": {},
   "outputs": [
    {
     "name": "stdout",
     "output_type": "stream",
     "text": [
      "Key any words. [If quit, press q.] >>a\n",
      "感恩師傅，讚嘆師傅\n",
      " Try again !! [If quit, press q.] >>t\n",
      "感恩師傅，讚嘆師傅\n",
      " Try again !! [If quit, press q.] >>q\n",
      "Bye\n"
     ]
    }
   ],
   "source": [
    "message = input(\"Key any words. [If quit, press q.] >>\")\n",
    "while (message != 'q' ):\n",
    "    print(\"感恩師傅，讚嘆師傅\")\n",
    "    message = input(\" Try again !! [If quit, press q.] >>\")\n",
    "else:\n",
    "    print(\"Bye\")"
   ]
  },
  {
   "cell_type": "markdown",
   "metadata": {},
   "source": [
    "Q3"
   ]
  },
  {
   "cell_type": "code",
   "execution_count": 9,
   "metadata": {},
   "outputs": [
    {
     "name": "stdout",
     "output_type": "stream",
     "text": [
      "Please input a word. >> World\n",
      "The reverse word is >> dlroW \n"
     ]
    }
   ],
   "source": [
    "def reverse(input):\n",
    "    k = \"\"\n",
    "    length = len(input)\n",
    "    \n",
    "    for i in range(len(input)-1,-1,-1):        \n",
    "        k = k + input[i]\n",
    "        #print(\"Result : {} & {}\".format(i,k))\n",
    "    return k\n",
    "    \n",
    "message = input(\"Please input a word. >> \")\n",
    "print(\"The reverse word is >> {} \".format(reverse(message)))"
   ]
  },
  {
   "cell_type": "markdown",
   "metadata": {},
   "source": [
    "Q4"
   ]
  },
  {
   "cell_type": "code",
   "execution_count": 11,
   "metadata": {},
   "outputs": [
    {
     "name": "stdout",
     "output_type": "stream",
     "text": [
      "今年 2014 : 甲午\n",
      "今年 2015 : 乙未\n",
      "今年 2016 : 丙申\n",
      "今年 2017 : 丁酉\n",
      "今年 2018 : 戊戌\n",
      "今年 2019 : 己亥\n",
      "今年 2020 : 庚子\n",
      "今年 2021 : 辛丑\n",
      "今年 2022 : 壬寅\n",
      "今年 2023 : 癸卯\n",
      "今年 2024 : 甲辰\n",
      "今年 2025 : 乙巳\n",
      "今年 2026 : 丙午\n",
      "今年 2027 : 丁未\n",
      "今年 2028 : 戊申\n",
      "今年 2029 : 己酉\n",
      "今年 2030 : 庚戌\n",
      "今年 2031 : 辛亥\n",
      "今年 2032 : 壬子\n",
      "今年 2033 : 癸丑\n",
      "今年 2034 : 甲寅\n",
      "今年 2035 : 乙卯\n",
      "今年 2036 : 丙辰\n",
      "今年 2037 : 丁巳\n",
      "今年 2038 : 戊午\n",
      "今年 2039 : 己未\n",
      "今年 2040 : 庚申\n",
      "今年 2041 : 辛酉\n",
      "今年 2042 : 壬戌\n",
      "今年 2043 : 癸亥\n",
      "今年 2044 : 甲子\n",
      "今年 2045 : 乙丑\n",
      "今年 2046 : 丙寅\n",
      "今年 2047 : 丁卯\n",
      "今年 2048 : 戊辰\n",
      "今年 2049 : 己巳\n",
      "今年 2050 : 庚午\n",
      "今年 2051 : 辛未\n",
      "今年 2052 : 壬申\n",
      "今年 2053 : 癸酉\n",
      "今年 2054 : 甲戌\n",
      "今年 2055 : 乙亥\n",
      "今年 2056 : 丙子\n",
      "今年 2057 : 丁丑\n",
      "今年 2058 : 戊寅\n",
      "今年 2059 : 己卯\n",
      "今年 2060 : 庚辰\n",
      "今年 2061 : 辛巳\n",
      "今年 2062 : 壬午\n",
      "今年 2063 : 癸未\n",
      "今年 2064 : 甲申\n",
      "今年 2065 : 乙酉\n",
      "今年 2066 : 丙戌\n",
      "今年 2067 : 丁亥\n",
      "今年 2068 : 戊子\n",
      "今年 2069 : 己丑\n",
      "今年 2070 : 庚寅\n",
      "今年 2071 : 辛卯\n",
      "今年 2072 : 壬辰\n",
      "今年 2073 : 癸巳\n"
     ]
    }
   ],
   "source": [
    "sky = \"甲乙丙丁戊己庚辛壬癸\"\n",
    "floor = \"子丑寅卯辰巳午未申酉戌亥\"\n",
    "s_cnt = 0\n",
    "f_cnt = 6\n",
    "for i in range(2014,2074,1):\n",
    "    if ( i == 2014 ) :\n",
    "        print(\"今年 {} : {}{}\".format(i,sky[s_cnt],floor[f_cnt]))\n",
    "    else:\n",
    "        s_cnt = (s_cnt + 1 ) % 10\n",
    "        f_cnt = (f_cnt + 1 ) % 12\n",
    "        print(\"今年 {} : {}{}\".format(i,sky[s_cnt],floor[f_cnt]))"
   ]
  },
  {
   "cell_type": "markdown",
   "metadata": {},
   "source": [
    "Q5"
   ]
  },
  {
   "cell_type": "code",
   "execution_count": 12,
   "metadata": {
    "collapsed": true
   },
   "outputs": [],
   "source": [
    "def tree(input):    \n",
    "    s=\"\"\n",
    "    t=\"\"\n",
    "    for i in range(0,int(input),1):\n",
    "        s = \"**\" * i + \"*\"\n",
    "        t=\"\"\n",
    "        for j in list(range(int(input)-i,0,-1)):\n",
    "            #print(\"i , j : {} & {}\".format(i,j))\n",
    "            t = t + \" \" \n",
    "        print ( t+s+t )"
   ]
  },
  {
   "cell_type": "code",
   "execution_count": 13,
   "metadata": {},
   "outputs": [
    {
     "name": "stdout",
     "output_type": "stream",
     "text": [
      "        *        \n",
      "       ***       \n",
      "      *****      \n",
      "     *******     \n",
      "    *********    \n",
      "   ***********   \n",
      "  *************  \n",
      " *************** \n"
     ]
    }
   ],
   "source": [
    "tree(8)"
   ]
  },
  {
   "cell_type": "code",
   "execution_count": null,
   "metadata": {
    "collapsed": true
   },
   "outputs": [],
   "source": []
  }
 ],
 "metadata": {
  "kernelspec": {
   "display_name": "Python 3",
   "language": "python",
   "name": "python3"
  },
  "language_info": {
   "codemirror_mode": {
    "name": "ipython",
    "version": 3
   },
   "file_extension": ".py",
   "mimetype": "text/x-python",
   "name": "python",
   "nbconvert_exporter": "python",
   "pygments_lexer": "ipython3",
   "version": "3.6.2"
  }
 },
 "nbformat": 4,
 "nbformat_minor": 2
}
