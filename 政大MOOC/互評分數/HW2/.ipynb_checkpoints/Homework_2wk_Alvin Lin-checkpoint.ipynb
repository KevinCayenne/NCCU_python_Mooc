{
 "cells": [
  {
   "cell_type": "code",
   "execution_count": 19,
   "metadata": {
    "collapsed": false
   },
   "outputs": [
    {
     "name": "stdout",
     "output_type": "stream",
     "text": [
      "Populating the interactive namespace from numpy and matplotlib\n"
     ]
    }
   ],
   "source": [
    "%pylab inline"
   ]
  },
  {
   "cell_type": "markdown",
   "metadata": {},
   "source": [
    "# 第一題【猜數字遊戲】：\n",
    "電腦由 1 到 100 「想」一個數字。你開始猜電腦想的數字, 太大或大小電腦會告訴你, 直到猜對。"
   ]
  },
  {
   "cell_type": "code",
   "execution_count": 20,
   "metadata": {
    "collapsed": false
   },
   "outputs": [
    {
     "name": "stdout",
     "output_type": "stream",
     "text": [
      "由 1 到 100，猜電腦的數字是>> 881\n",
      "手殘了嗎? 是看不懂由 1 到 100?\n"
     ]
    }
   ],
   "source": [
    "# 電腦的數字\n",
    "a = randint(1,100)\n",
    "\n",
    "b = input(\"由 1 到 100，猜電腦的數字是>> \")\n",
    "if int(b) > 0 and int(b) < 101:\n",
    "    while int(b) != a:\n",
    "        if a > int(b):\n",
    "            print(\"太小了!\")\n",
    "        else:\n",
    "            print(\"太大了!\")\n",
    "        b = input(\"由 1 到 100，猜電腦的數字是>> \")\n",
    "        \n",
    "    print(\"猜對了，數字是{}\".format(a))\n",
    "else:\n",
    "    print(\"手殘了嗎? 是看不懂由 1 到 100?\")        "
   ]
  },
  {
   "cell_type": "markdown",
   "metadata": {},
   "source": [
    "# 第二題【感恩讚嘆機器人】：\n",
    "請依照老師本週影片的作法，\n",
    "製作出感恩讚嘆機器人，\n",
    "也就是回應的格式一律是：\n",
    "「感恩ＯＯ，讚嘆ＯＯ。」\n",
    "\n",
    "範例：\n",
    "\n",
    "「嗨，今天天氣很好，要一起去洞爺湖喝茶吃魚嗎？」\n",
    "\n",
    "『感恩炎龍，讚嘆炎龍。』"
   ]
  },
  {
   "cell_type": "code",
   "execution_count": null,
   "metadata": {
    "collapsed": false
   },
   "outputs": [
    {
     "name": "stdout",
     "output_type": "stream",
     "text": [
      ">> j j \n",
      "感恩Alvin，讚嘆Alvin。\n",
      ">> \n",
      "感恩Alvin，讚嘆Alvin。\n",
      ">> \n",
      "感恩Alvin，讚嘆Alvin。\n",
      ">> \n",
      "感恩Alvin，讚嘆Alvin。\n",
      ">> \n",
      "感恩Alvin，讚嘆Alvin。\n"
     ]
    }
   ],
   "source": [
    "name = \"Alvin\"\n",
    "msg = input(\">> \")\n",
    "while msg != \"881\":\n",
    "    print(\"感恩{}，讚嘆{}。\".format(name,name))\n",
    "    msg = input(\">> \")\n",
    "\n",
    "print(\"Bye!\")    "
   ]
  },
  {
   "cell_type": "markdown",
   "metadata": {},
   "source": [
    "# 第三題 【寫個函數讓字串倒過來排】：\n",
    "寫一個函數, 比如說叫 reverse,\n",
    "\n",
    "然後輸入一個字串,\n",
    "\n",
    "st = “hello”\n",
    "\n",
    "reverse(“hello”)\n",
    "\n",
    "就回傳這個字串\n",
    "\n",
    "‘olleh’"
   ]
  },
  {
   "cell_type": "code",
   "execution_count": null,
   "metadata": {
    "collapsed": false
   },
   "outputs": [],
   "source": [
    "def reverse(word):\n",
    "    sdrow = \"\"\n",
    "    for w in word:\n",
    "        sdrow = w + sdrow\n",
    "        \n",
    "    print(sdrow)\n",
    "    \n",
    "reverse(\"hell\")"
   ]
  },
  {
   "cell_type": "markdown",
   "metadata": {},
   "source": [
    "# 挑戰題三：自己出！\n",
    "請依照本週的範圍（for/while迴圈、函式定義），自己出一題並完成！\n",
    "（可以從自己的生活或研究領域出題）\n",
    "\n",
    "## 你中獎了嗎?"
   ]
  },
  {
   "cell_type": "code",
   "execution_count": 23,
   "metadata": {
    "collapsed": false
   },
   "outputs": [
    {
     "name": "stdout",
     "output_type": "stream",
     "text": [
      "請輸入你的獎號，範圍為1 ~ 48 >> 55\n",
      "55 ! 你是看不懂提示範圍嗎?\n"
     ]
    }
   ],
   "source": [
    "def 抽獎號碼(x):\n",
    "    if int(x) in list(range(1,48)):\n",
    "        print(\"你猜的號碼是{}\".format(x))\n",
    "        s = list(range(0,6))\n",
    "        for i in s:\n",
    "            j = randint(1,48)    \n",
    "            while j in s:\n",
    "                j = randint(1,48) \n",
    "\n",
    "            s[i] = j            \n",
    "\n",
    "        r = \"這期中獎的號碼是 {},{},{},{},{},{}\".format(s[0],s[1],s[2],s[3],s[4],s[5])\n",
    "        print(r)\n",
    "        \n",
    "        if int(x) in s:\n",
    "            z = 0\n",
    "            while z < 6:\n",
    "                print(\" \"*s[z]+\"☆\")\n",
    "                z = z + 1\n",
    "                \n",
    "            print(\"恭禧你猜中了{}\".format(x))\n",
    "\n",
    "        else:\n",
    "            print(\"哦喔!沒猜對，請繼續努力!\")                \n",
    "    else:\n",
    "        print(\"{} ! 你是看不懂提示範圍嗎?\".format(x))  \n",
    "        \n",
    "\n",
    "mynum = input(\"請輸入你的獎號，範圍為1 ~ 48 >> \")\n",
    "抽獎號碼(mynum)"
   ]
  },
  {
   "cell_type": "code",
   "execution_count": 24,
   "metadata": {
    "collapsed": false
   },
   "outputs": [
    {
     "name": "stdout",
     "output_type": "stream",
     "text": [
      "0 ! 你是看不懂提示範圍嗎?\n",
      "48 ! 你是看不懂提示範圍嗎?\n",
      "你猜的號碼是22\n",
      "這期中獎的號碼是 43,11,47,42,36,39\n",
      "哦喔!沒猜對，請繼續努力!\n",
      "你猜的號碼是32\n",
      "這期中獎的號碼是 39,26,35,37,19,33\n",
      "哦喔!沒猜對，請繼續努力!\n",
      "你猜的號碼是42\n",
      "這期中獎的號碼是 42,28,24,18,15,13\n",
      "                                          ☆\n",
      "                            ☆\n",
      "                        ☆\n",
      "                  ☆\n",
      "               ☆\n",
      "             ☆\n",
      "恭禧你猜中了42\n",
      "你猜的號碼是12\n",
      "這期中獎的號碼是 43,39,34,23,25,21\n",
      "哦喔!沒猜對，請繼續努力!\n"
     ]
    }
   ],
   "source": [
    "抽獎號碼(\"0\")\n",
    "抽獎號碼(\"48\")\n",
    "抽獎號碼(\"22\")\n",
    "抽獎號碼(\"32\")\n",
    "抽獎號碼(\"42\")\n",
    "抽獎號碼(\"12\")"
   ]
  }
 ],
 "metadata": {
  "kernelspec": {
   "display_name": "Python 3",
   "language": "python",
   "name": "python3"
  },
  "language_info": {
   "codemirror_mode": {
    "name": "ipython",
    "version": 3
   },
   "file_extension": ".py",
   "mimetype": "text/x-python",
   "name": "python",
   "nbconvert_exporter": "python",
   "pygments_lexer": "ipython3",
   "version": "3.6.0"
  }
 },
 "nbformat": 4,
 "nbformat_minor": 2
}
